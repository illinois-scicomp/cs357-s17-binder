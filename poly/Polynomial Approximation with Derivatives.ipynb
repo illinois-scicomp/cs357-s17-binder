{
  "cells": [
    {
      "cell_type": "markdown",
      "metadata": {},
      "source": [
        "# Polynomial Approximation with Derivatives"
      ]
    },
    {
      "cell_type": "code",
      "execution_count": 7,
      "metadata": {
        "collapsed": true
      },
      "outputs": [],
      "source": [
        "import numpy as np\n",
        "import matplotlib.pyplot as plt\n",
        "\n",
        "from math import factorial"
      ]
    },
    {
      "cell_type": "markdown",
      "metadata": {},
      "source": [
        "## A Brief Intro to `sympy`"
      ]
    },
    {
      "cell_type": "markdown",
      "metadata": {},
      "source": [
        "Here we import `sympy`, a package for symbolic computation with Python."
      ]
    },
    {
      "cell_type": "code",
      "execution_count": 8,
      "metadata": {
        "collapsed": true
      },
      "outputs": [],
      "source": [
        "import sympy as sp\n",
        "sp.init_printing()"
      ]
    },
    {
      "cell_type": "markdown",
      "metadata": {},
      "source": [
        "Next, we make a (symbolic) variable $x$ from which we can then build more complicated expressions:"
      ]
    },
    {
      "cell_type": "code",
      "execution_count": 9,
      "metadata": {
        "collapsed": false
      },
      "outputs": [
        {
          "data": {
            "image/png": "[encoded data removed]",
            "text/latex": [
              "$$x$$"
            ],
            "text/plain": [
              "x"
            ]
          },
          "execution_count": 9,
          "metadata": {},
          "output_type": "execute_result"
        }
      ],
      "source": [
        "x = sp.Symbol(\"x\")\n",
        "x"
      ]
    },
    {
      "cell_type": "markdown",
      "metadata": {},
      "source": [
        "Build up an expression with $x$. Assign it to `expr`. Observe that this expression isn't evaluated--the result of this computation is some Python data that represents the computation:"
      ]
    },
    {
      "cell_type": "code",
      "execution_count": 10,
      "metadata": {
        "collapsed": false
      },
      "outputs": [
        {
          "data": {
            "image/png": "[encoded data removed]",
            "text/latex": [
              "$$\\sin^{2}{\\left (\\sqrt{x} + 2 \\right )}$$"
            ],
            "text/plain": [
              "   2        \n",
              "sin (\u221ax + 2)"
            ]
          },
          "execution_count": 10,
          "metadata": {},
          "output_type": "execute_result"
        }
      ],
      "source": [
        "expr = sp.sin(sp.sqrt(x)+2)**2\n",
        "expr"
      ]
    },
    {
      "cell_type": "markdown",
      "metadata": {},
      "source": [
        "Next, take a derivative, using `.diff(x)`."
      ]
    },
    {
      "cell_type": "code",
      "execution_count": 11,
      "metadata": {
        "collapsed": false
      },
      "outputs": [
        {
          "data": {
            "image/png": "[encoded data removed]",
            "text/latex": [
              "$$\\frac{1}{\\sqrt{x}} \\sin{\\left (\\sqrt{x} + 2 \\right )} \\cos{\\left (\\sqrt{x} + 2 \\right )}$$"
            ],
            "text/plain": [
              "sin(\u221ax + 2)\u22c5cos(\u221ax + 2)\n",
              "\u2500\u2500\u2500\u2500\u2500\u2500\u2500\u2500\u2500\u2500\u2500\u2500\u2500\u2500\u2500\u2500\u2500\u2500\u2500\u2500\u2500\u2500\u2500\n",
              "           \u221ax          "
            ]
          },
          "execution_count": 11,
          "metadata": {},
          "output_type": "execute_result"
        }
      ],
      "source": [
        "expr.diff(x)"
      ]
    },
    {
      "cell_type": "markdown",
      "metadata": {},
      "source": [
        "Take 10 derivatives:"
      ]
    },
    {
      "cell_type": "code",
      "execution_count": 12,
      "metadata": {
        "collapsed": false
      },
      "outputs": [
        {
          "data": {
            "image/png": "[encoded data removed]",
            "text/latex": [
              "$$\\frac{1}{512} \\left(- \\frac{256}{x^{5}} \\sin^{2}{\\left (\\sqrt{x} + 2 \\right )} + \\frac{256}{x^{5}} \\cos^{2}{\\left (\\sqrt{x} + 2 \\right )} + \\frac{63360}{x^{6}} \\sin^{2}{\\left (\\sqrt{x} + 2 \\right )} - \\frac{63360}{x^{6}} \\cos^{2}{\\left (\\sqrt{x} + 2 \\right )} - \\frac{2162160}{x^{7}} \\sin^{2}{\\left (\\sqrt{x} + 2 \\right )} + \\frac{2162160}{x^{7}} \\cos^{2}{\\left (\\sqrt{x} + 2 \\right )} + \\frac{18918900}{x^{8}} \\sin^{2}{\\left (\\sqrt{x} + 2 \\right )} - \\frac{18918900}{x^{8}} \\cos^{2}{\\left (\\sqrt{x} + 2 \\right )} - \\frac{34459425}{x^{9}} \\sin^{2}{\\left (\\sqrt{x} + 2 \\right )} + \\frac{34459425}{x^{9}} \\cos^{2}{\\left (\\sqrt{x} + 2 \\right )} - \\frac{11520}{x^{\\frac{11}{2}}} \\sin{\\left (\\sqrt{x} + 2 \\right )} \\cos{\\left (\\sqrt{x} + 2 \\right )} + \\frac{887040}{x^{\\frac{13}{2}}} \\sin{\\left (\\sqrt{x} + 2 \\right )} \\cos{\\left (\\sqrt{x} + 2 \\right )} - \\frac{15135120}{x^{\\frac{15}{2}}} \\sin{\\left (\\sqrt{x} + 2 \\right )} \\cos{\\left (\\sqrt{x} + 2 \\right )} + \\frac{64864800}{x^{\\frac{17}{2}}} \\sin{\\left (\\sqrt{x} + 2 \\right )} \\cos{\\left (\\sqrt{x} + 2 \\right )} - \\frac{34459425}{x^{\\frac{19}{2}}} \\sin{\\left (\\sqrt{x} + 2 \\right )} \\cos{\\left (\\sqrt{x} + 2 \\right )}\\right)$$"
            ],
            "text/plain": [
              "         2                  2                    2                    2       \n",
              "  256\u22c5sin (\u221ax + 2)   256\u22c5cos (\u221ax + 2)   63360\u22c5sin (\u221ax + 2)   63360\u22c5cos (\u221ax + 2\n",
              "- \u2500\u2500\u2500\u2500\u2500\u2500\u2500\u2500\u2500\u2500\u2500\u2500\u2500\u2500\u2500\u2500 + \u2500\u2500\u2500\u2500\u2500\u2500\u2500\u2500\u2500\u2500\u2500\u2500\u2500\u2500\u2500\u2500 + \u2500\u2500\u2500\u2500\u2500\u2500\u2500\u2500\u2500\u2500\u2500\u2500\u2500\u2500\u2500\u2500\u2500\u2500 - \u2500\u2500\u2500\u2500\u2500\u2500\u2500\u2500\u2500\u2500\u2500\u2500\u2500\u2500\u2500\u2500\u2500\n",
              "          5                  5                   6                    6       \n",
              "         x                  x                   x                    x        \n",
              "\u2500\u2500\u2500\u2500\u2500\u2500\u2500\u2500\u2500\u2500\u2500\u2500\u2500\u2500\u2500\u2500\u2500\u2500\u2500\u2500\u2500\u2500\u2500\u2500\u2500\u2500\u2500\u2500\u2500\u2500\u2500\u2500\u2500\u2500\u2500\u2500\u2500\u2500\u2500\u2500\u2500\u2500\u2500\u2500\u2500\u2500\u2500\u2500\u2500\u2500\u2500\u2500\u2500\u2500\u2500\u2500\u2500\u2500\u2500\u2500\u2500\u2500\u2500\u2500\u2500\u2500\u2500\u2500\u2500\u2500\u2500\u2500\u2500\u2500\u2500\u2500\u2500\u2500\n",
              "                                                                              \n",
              "\n",
              "               2                      2                       2               \n",
              ")   2162160\u22c5sin (\u221ax + 2)   2162160\u22c5cos (\u221ax + 2)   18918900\u22c5sin (\u221ax + 2)   1891\n",
              "\u2500 - \u2500\u2500\u2500\u2500\u2500\u2500\u2500\u2500\u2500\u2500\u2500\u2500\u2500\u2500\u2500\u2500\u2500\u2500\u2500\u2500 + \u2500\u2500\u2500\u2500\u2500\u2500\u2500\u2500\u2500\u2500\u2500\u2500\u2500\u2500\u2500\u2500\u2500\u2500\u2500\u2500 + \u2500\u2500\u2500\u2500\u2500\u2500\u2500\u2500\u2500\u2500\u2500\u2500\u2500\u2500\u2500\u2500\u2500\u2500\u2500\u2500\u2500 - \u2500\u2500\u2500\u2500\n",
              "              7                      7                       8                \n",
              "             x                      x                       x                 \n",
              "\u2500\u2500\u2500\u2500\u2500\u2500\u2500\u2500\u2500\u2500\u2500\u2500\u2500\u2500\u2500\u2500\u2500\u2500\u2500\u2500\u2500\u2500\u2500\u2500\u2500\u2500\u2500\u2500\u2500\u2500\u2500\u2500\u2500\u2500\u2500\u2500\u2500\u2500\u2500\u2500\u2500\u2500\u2500\u2500\u2500\u2500\u2500\u2500\u2500\u2500\u2500\u2500\u2500\u2500\u2500\u2500\u2500\u2500\u2500\u2500\u2500\u2500\u2500\u2500\u2500\u2500\u2500\u2500\u2500\u2500\u2500\u2500\u2500\u2500\u2500\u2500\u2500\u2500\n",
              "                                                                              \n",
              "\n",
              "        2                       2                       2                     \n",
              "8900\u22c5cos (\u221ax + 2)   34459425\u22c5sin (\u221ax + 2)   34459425\u22c5cos (\u221ax + 2)   11520\u22c5sin(\n",
              "\u2500\u2500\u2500\u2500\u2500\u2500\u2500\u2500\u2500\u2500\u2500\u2500\u2500\u2500\u2500\u2500\u2500 - \u2500\u2500\u2500\u2500\u2500\u2500\u2500\u2500\u2500\u2500\u2500\u2500\u2500\u2500\u2500\u2500\u2500\u2500\u2500\u2500\u2500 + \u2500\u2500\u2500\u2500\u2500\u2500\u2500\u2500\u2500\u2500\u2500\u2500\u2500\u2500\u2500\u2500\u2500\u2500\u2500\u2500\u2500 - \u2500\u2500\u2500\u2500\u2500\u2500\u2500\u2500\u2500\u2500\n",
              "       8                       9                       9                      \n",
              "      x                       x                       x                       \n",
              "\u2500\u2500\u2500\u2500\u2500\u2500\u2500\u2500\u2500\u2500\u2500\u2500\u2500\u2500\u2500\u2500\u2500\u2500\u2500\u2500\u2500\u2500\u2500\u2500\u2500\u2500\u2500\u2500\u2500\u2500\u2500\u2500\u2500\u2500\u2500\u2500\u2500\u2500\u2500\u2500\u2500\u2500\u2500\u2500\u2500\u2500\u2500\u2500\u2500\u2500\u2500\u2500\u2500\u2500\u2500\u2500\u2500\u2500\u2500\u2500\u2500\u2500\u2500\u2500\u2500\u2500\u2500\u2500\u2500\u2500\u2500\u2500\u2500\u2500\u2500\u2500\u2500\u2500\n",
              "                                      512                                     \n",
              "\n",
              "                                                                              \n",
              "\u221ax + 2)\u22c5cos(\u221ax + 2)   887040\u22c5sin(\u221ax + 2)\u22c5cos(\u221ax + 2)   15135120\u22c5sin(\u221ax + 2)\u22c5co\n",
              "\u2500\u2500\u2500\u2500\u2500\u2500\u2500\u2500\u2500\u2500\u2500\u2500\u2500\u2500\u2500\u2500\u2500\u2500\u2500 + \u2500\u2500\u2500\u2500\u2500\u2500\u2500\u2500\u2500\u2500\u2500\u2500\u2500\u2500\u2500\u2500\u2500\u2500\u2500\u2500\u2500\u2500\u2500\u2500\u2500\u2500\u2500\u2500\u2500\u2500 - \u2500\u2500\u2500\u2500\u2500\u2500\u2500\u2500\u2500\u2500\u2500\u2500\u2500\u2500\u2500\u2500\u2500\u2500\u2500\u2500\u2500\u2500\u2500\n",
              "   11/2                            13/2                              15/2     \n",
              "  x                               x                                 x         \n",
              "\u2500\u2500\u2500\u2500\u2500\u2500\u2500\u2500\u2500\u2500\u2500\u2500\u2500\u2500\u2500\u2500\u2500\u2500\u2500\u2500\u2500\u2500\u2500\u2500\u2500\u2500\u2500\u2500\u2500\u2500\u2500\u2500\u2500\u2500\u2500\u2500\u2500\u2500\u2500\u2500\u2500\u2500\u2500\u2500\u2500\u2500\u2500\u2500\u2500\u2500\u2500\u2500\u2500\u2500\u2500\u2500\u2500\u2500\u2500\u2500\u2500\u2500\u2500\u2500\u2500\u2500\u2500\u2500\u2500\u2500\u2500\u2500\u2500\u2500\u2500\u2500\u2500\u2500\n",
              "                                                                              \n",
              "\n",
              "                                                                              \n",
              "s(\u221ax + 2)   64864800\u22c5sin(\u221ax + 2)\u22c5cos(\u221ax + 2)   34459425\u22c5sin(\u221ax + 2)\u22c5cos(\u221ax + 2\n",
              "\u2500\u2500\u2500\u2500\u2500\u2500\u2500\u2500\u2500 + \u2500\u2500\u2500\u2500\u2500\u2500\u2500\u2500\u2500\u2500\u2500\u2500\u2500\u2500\u2500\u2500\u2500\u2500\u2500\u2500\u2500\u2500\u2500\u2500\u2500\u2500\u2500\u2500\u2500\u2500\u2500\u2500 - \u2500\u2500\u2500\u2500\u2500\u2500\u2500\u2500\u2500\u2500\u2500\u2500\u2500\u2500\u2500\u2500\u2500\u2500\u2500\u2500\u2500\u2500\u2500\u2500\u2500\u2500\u2500\u2500\u2500\u2500\u2500\n",
              "                          17/2                               19/2             \n",
              "                         x                                  x                 \n",
              "\u2500\u2500\u2500\u2500\u2500\u2500\u2500\u2500\u2500\u2500\u2500\u2500\u2500\u2500\u2500\u2500\u2500\u2500\u2500\u2500\u2500\u2500\u2500\u2500\u2500\u2500\u2500\u2500\u2500\u2500\u2500\u2500\u2500\u2500\u2500\u2500\u2500\u2500\u2500\u2500\u2500\u2500\u2500\u2500\u2500\u2500\u2500\u2500\u2500\u2500\u2500\u2500\u2500\u2500\u2500\u2500\u2500\u2500\u2500\u2500\u2500\u2500\u2500\u2500\u2500\u2500\u2500\u2500\u2500\u2500\u2500\u2500\u2500\u2500\u2500\u2500\u2500\u2500\n",
              "                                                                              \n",
              "\n",
              " \n",
              ")\n",
              "\u2500\n",
              " \n",
              " \n",
              "\u2500\n",
              " "
            ]
          },
          "execution_count": 12,
          "metadata": {},
          "output_type": "execute_result"
        }
      ],
      "source": [
        "expr.diff(x, 10)"
      ]
    },
    {
      "cell_type": "markdown",
      "metadata": {},
      "source": [
        "Use `.subs(x, ...)` and `.evalf()` to evaluate your expression for $x=1$."
      ]
    },
    {
      "cell_type": "code",
      "execution_count": 13,
      "metadata": {
        "collapsed": false
      },
      "outputs": [
        {
          "data": {
            "image/png": "[encoded data removed]",
            "text/latex": [
              "$$0.019914856674817$$"
            ],
            "text/plain": [
              "0.0199148566748170"
            ]
          },
          "execution_count": 13,
          "metadata": {},
          "output_type": "execute_result"
        }
      ],
      "source": [
        "expr.subs(x, 1).evalf()"
      ]
    },
    {
      "cell_type": "markdown",
      "metadata": {},
      "source": [
        "## Polynomial Approximation"
      ]
    },
    {
      "cell_type": "markdown",
      "metadata": {},
      "source": [
        "Here are some functions to play with:"
      ]
    },
    {
      "cell_type": "code",
      "execution_count": 17,
      "metadata": {
        "collapsed": true
      },
      "outputs": [],
      "source": [
        "#f = sp.exp(x)\n",
        "f = sp.sqrt(1-x**2)\n",
        "#f = 1/(20*x-10)"
      ]
    },
    {
      "cell_type": "markdown",
      "metadata": {},
      "source": [
        "Plot `f`:"
      ]
    },
    {
      "cell_type": "code",
      "execution_count": 18,
      "metadata": {
        "collapsed": true
      },
      "outputs": [],
      "source": [
        "def plot_sympy(my_f, my_pts, **kwargs):\n",
        "    f_values = np.array([my_f.subs(x, pt) for pt in my_pts])\n",
        "    plt.plot(pts, f_values, **kwargs)\n",
        "    plt.ylim([-1.3, 1.3])"
      ]
    },
    {
      "cell_type": "code",
      "execution_count": 19,
      "metadata": {
        "collapsed": false
      },
      "outputs": [
        {
          "data": {
            "image/png": "[encoded data removed]",
            "text/plain": [
              "<matplotlib.figure.Figure at 0x7f88ff94a240>"
            ]
          },
          "metadata": {},
          "output_type": "display_data"
        }
      ],
      "source": [
        "pts = np.linspace(-1, 1, 1000)\n",
        "plot_sympy(f, pts)"
      ]
    },
    {
      "cell_type": "markdown",
      "metadata": {},
      "source": [
        "The [Taylor polynomial](https://en.wikipedia.org/wiki/Taylor%27s_theorem) uses derivatives to *automatically* get close to the function--the closer the higher you increase the degree.\n",
        "\n",
        "Write out the degree 4 Taylor polynomial about 0, call it `taylor4`:"
      ]
    },
    {
      "cell_type": "code",
      "execution_count": 21,
      "metadata": {
        "collapsed": false
      },
      "outputs": [
        {
          "data": {
            "image/png": "[encoded data removed]",
            "text/latex": [
              "$$- \\frac{x^{4}}{8} - \\frac{x^{2}}{2} + 1$$"
            ],
            "text/plain": [
              "   4    2    \n",
              "  x    x     \n",
              "- \u2500\u2500 - \u2500\u2500 + 1\n",
              "  8    2     "
            ]
          },
          "execution_count": 21,
          "metadata": {},
          "output_type": "execute_result"
        }
      ],
      "source": [
        "taylor4 = (\n",
        "    f.subs(x, 0)\n",
        "    + f.diff(x).subs(x, 0) * x\n",
        "    + f.diff(x, 2).subs(x, 0)/2 * x**2\n",
        "    + f.diff(x, 3).subs(x, 0)/6 * x**3\n",
        "    + f.diff(x, 4).subs(x, 0)/24 * x**4\n",
        ")\n",
        "taylor4"
      ]
    },
    {
      "cell_type": "code",
      "execution_count": 22,
      "metadata": {
        "collapsed": false
      },
      "outputs": [
        {
          "data": {
            "text/plain": [
              "<matplotlib.legend.Legend at 0x7f88ff238e10>"
            ]
          },
          "execution_count": 22,
          "metadata": {},
          "output_type": "execute_result"
        },
        {
          "data": {
            "image/png": "[encoded data removed]",
            "text/plain": [
              "<matplotlib.figure.Figure at 0x7f88ff3a5f98>"
            ]
          },
          "metadata": {},
          "output_type": "display_data"
        }
      ],
      "source": [
        "plot_sympy(taylor4, pts, label=\"taylor4\")\n",
        "plot_sympy(f, pts, label=\"f\")\n",
        "plt.legend(loc=\"best\")"
      ]
    },
    {
      "cell_type": "markdown",
      "metadata": {},
      "source": [
        "Now write code to do this for any order `n`. Put the result in `taylor`:"
      ]
    },
    {
      "cell_type": "code",
      "execution_count": 23,
      "metadata": {
        "collapsed": true
      },
      "outputs": [],
      "source": [
        "n = 20"
      ]
    },
    {
      "cell_type": "code",
      "execution_count": 26,
      "metadata": {
        "collapsed": true
      },
      "outputs": [],
      "source": [
        "taylor = 0\n",
        "for i in range(n):\n",
        "    taylor += f.diff(x, i).subs(x, 0)/factorial(i) * x**i"
      ]
    },
    {
      "cell_type": "code",
      "execution_count": 25,
      "metadata": {
        "collapsed": false
      },
      "outputs": [
        {
          "data": {
            "image/png": "[encoded data removed]",
            "text/latex": [
              "$$- \\frac{715 x^{18}}{65536} - \\frac{429 x^{16}}{32768} - \\frac{33 x^{14}}{2048} - \\frac{21 x^{12}}{1024} - \\frac{7 x^{10}}{256} - \\frac{5 x^{8}}{128} - \\frac{x^{6}}{16} - \\frac{x^{4}}{8} - \\frac{x^{2}}{2} + 1$$"
            ],
            "text/plain": [
              "       18        16       14       12      10      8    6    4    2    \n",
              "  715\u22c5x     429\u22c5x     33\u22c5x     21\u22c5x     7\u22c5x     5\u22c5x    x    x    x     \n",
              "- \u2500\u2500\u2500\u2500\u2500\u2500\u2500 - \u2500\u2500\u2500\u2500\u2500\u2500\u2500 - \u2500\u2500\u2500\u2500\u2500\u2500 - \u2500\u2500\u2500\u2500\u2500\u2500 - \u2500\u2500\u2500\u2500\u2500 - \u2500\u2500\u2500\u2500 - \u2500\u2500 - \u2500\u2500 - \u2500\u2500 + 1\n",
              "   65536     32768     2048     1024     256    128    16   8    2     "
            ]
          },
          "execution_count": 25,
          "metadata": {},
          "output_type": "execute_result"
        }
      ],
      "source": [
        "taylor"
      ]
    },
    {
      "cell_type": "code",
      "execution_count": 158,
      "metadata": {
        "collapsed": false
      },
      "outputs": [
        {
          "data": {
            "text/plain": [
              "<matplotlib.legend.Legend at 0x7f7cf1d64198>"
            ]
          },
          "execution_count": 158,
          "metadata": {},
          "output_type": "execute_result"
        },
        {
          "data": {
            "image/png": "[encoded data removed]",
            "text/plain": [
              "<matplotlib.figure.Figure at 0x7f7cf2bc3b38>"
            ]
          },
          "metadata": {},
          "output_type": "display_data"
        }
      ],
      "source": [
        "plot_sympy(taylor, pts, label=\"taylor\")\n",
        "plot_sympy(f, pts, label=\"f\")\n",
        "plt.legend(loc=\"best\")"
      ]
    },
    {
      "cell_type": "markdown",
      "metadata": {},
      "source": [
        "## Behavior of the Error (Part II)"
      ]
    },
    {
      "cell_type": "markdown",
      "metadata": {},
      "source": [
        "Let's repeat the setup, for clarity:"
      ]
    },
    {
      "cell_type": "code",
      "execution_count": 166,
      "metadata": {
        "collapsed": true
      },
      "outputs": [],
      "source": [
        "f = 1/(20*x-10)"
      ]
    },
    {
      "cell_type": "code",
      "execution_count": 167,
      "metadata": {
        "collapsed": true
      },
      "outputs": [],
      "source": [
        "n = 4\n",
        "\n",
        "taylor = 0\n",
        "for i in range(n):\n",
        "    taylor += f.diff(x, i).subs(x, 0)/factorial(i) * x**i\n",
        "    \n",
        "error = taylor - f"
      ]
    },
    {
      "cell_type": "code",
      "execution_count": 174,
      "metadata": {
        "collapsed": false
      },
      "outputs": [
        {
          "data": {
            "text/plain": [
              "<matplotlib.legend.Legend at 0x7f7cf1ba3f98>"
            ]
          },
          "execution_count": 174,
          "metadata": {},
          "output_type": "execute_result"
        },
        {
          "data": {
            "image/png": "[encoded data removed]",
            "text/plain": [
              "<matplotlib.figure.Figure at 0x7f7cf2bbea20>"
            ]
          },
          "metadata": {},
          "output_type": "display_data"
        }
      ],
      "source": [
        "plot_sympy(error, pts, label=\"error\")\n",
        "plt.legend(loc=\"best\")"
      ]
    },
    {
      "cell_type": "markdown",
      "metadata": {},
      "source": [
        "* What's the error at the expansion center?\n",
        "* How does the error depend on the distance to the expansion center?\n",
        "\n",
        "Let's look back at this Taylor expansion:"
      ]
    },
    {
      "cell_type": "code",
      "execution_count": 169,
      "metadata": {
        "collapsed": false
      },
      "outputs": [
        {
          "data": {
            "image/png": "[encoded data removed]",
            "text/latex": [
              "$$- \\frac{4 x^{3}}{5} - \\frac{2 x^{2}}{5} - \\frac{x}{5} - \\frac{1}{10}$$"
            ],
            "text/plain": [
              "     3      2         \n",
              "  4\u22c5x    2\u22c5x    x   1 \n",
              "- \u2500\u2500\u2500\u2500 - \u2500\u2500\u2500\u2500 - \u2500 - \u2500\u2500\n",
              "   5      5     5   10"
            ]
          },
          "execution_count": 169,
          "metadata": {},
          "output_type": "execute_result"
        }
      ],
      "source": [
        "taylor"
      ]
    },
    {
      "cell_type": "markdown",
      "metadata": {},
      "source": [
        "* To get an idea of what the error might look like, compute the Taylor polynomial up, store it in `next_taylor`.\n",
        "* Compare that to Taylor."
      ]
    },
    {
      "cell_type": "code",
      "execution_count": 190,
      "metadata": {
        "collapsed": false
      },
      "outputs": [
        {
          "data": {
            "image/png": "[encoded data removed]",
            "text/latex": [
              "$$\\frac{8 x^{4}}{5}$$"
            ],
            "text/plain": [
              "   4\n",
              "8\u22c5x \n",
              "\u2500\u2500\u2500\u2500\n",
              " 5  "
            ]
          },
          "execution_count": 190,
          "metadata": {},
          "output_type": "execute_result"
        }
      ],
      "source": [
        "next_taylor = 0\n",
        "for i in range(n+1):\n",
        "    next_taylor += f.diff(x, i).subs(x, 0)/factorial(i) * x**i\n",
        "    \n",
        "taylor-next_taylor"
      ]
    },
    {
      "cell_type": "markdown",
      "metadata": {},
      "source": [
        "How does that difference compare to the actual error?"
      ]
    },
    {
      "cell_type": "code",
      "execution_count": 175,
      "metadata": {
        "collapsed": false
      },
      "outputs": [
        {
          "data": {
            "text/plain": [
              "<matplotlib.legend.Legend at 0x7f7cf00b54e0>"
            ]
          },
          "execution_count": 175,
          "metadata": {},
          "output_type": "execute_result"
        },
        {
          "data": {
            "image/png": "[encoded data removed]",
            "text/plain": [
              "<matplotlib.figure.Figure at 0x7f7cf0326dd8>"
            ]
          },
          "metadata": {},
          "output_type": "display_data"
        }
      ],
      "source": [
        "plot_sympy(taylor-next_taylor, pts, label=\"diff to next\")\n",
        "plot_sympy(error, pts, label=\"error\")\n",
        "plt.legend(loc=\"best\")"
      ]
    },
    {
      "cell_type": "markdown",
      "metadata": {},
      "source": [
        "* Far away from the expansion center, it doesn't look like they have much to do with each other.\n",
        "* To get a better idea of what happens close to the center, use a log-log plot:"
      ]
    },
    {
      "cell_type": "code",
      "execution_count": 189,
      "metadata": {
        "collapsed": false
      },
      "outputs": [
        {
          "data": {
            "text/plain": [
              "<matplotlib.text.Text at 0x7f7ceb075e80>"
            ]
          },
          "execution_count": 189,
          "metadata": {},
          "output_type": "execute_result"
        },
        {
          "data": {
            "image/png": "[encoded data removed]",
            "text/plain": [
              "<matplotlib.figure.Figure at 0x7f7ceb152cc0>"
            ]
          },
          "metadata": {},
          "output_type": "display_data"
        }
      ],
      "source": [
        "pos_pts = 10**np.linspace(-3, 0.5)\n",
        "err_values = [abs(error.subs(x, pt)) for pt in pos_pts]\n",
        "plt.loglog(pos_pts, err_values)\n",
        "plt.grid()\n",
        "plt.xlabel(\"$x$\")\n",
        "plt.ylabel(\"Error\")"
      ]
    },
    {
      "cell_type": "markdown",
      "metadata": {},
      "source": [
        "* What is the behavior of the error as we get very close to the expansion center?\n",
        "* Is there any predictive power in what we just observed?"
      ]
    },
    {
      "cell_type": "markdown",
      "metadata": {},
      "source": [
        "## Predicting Taylor Error (Part III)"
      ]
    },
    {
      "cell_type": "code",
      "execution_count": 46,
      "metadata": {
        "collapsed": false
      },
      "outputs": [
        {
          "data": {
            "image/png": "[encoded data removed]",
            "text/latex": [
              "$$\\frac{\\sqrt{2}}{128} \\left(x - 12\\right)^{3} - \\frac{\\sqrt{2}}{32} \\left(x - 12\\right)^{2} + \\frac{\\sqrt{2}}{4} \\left(x - 12\\right) + \\sqrt{2}$$"
            ],
            "text/plain": [
              "           3              2                   \n",
              "\u221a2\u22c5(x - 12)    \u221a2\u22c5(x - 12)    \u221a2\u22c5(x - 12)     \n",
              "\u2500\u2500\u2500\u2500\u2500\u2500\u2500\u2500\u2500\u2500\u2500\u2500 - \u2500\u2500\u2500\u2500\u2500\u2500\u2500\u2500\u2500\u2500\u2500\u2500 + \u2500\u2500\u2500\u2500\u2500\u2500\u2500\u2500\u2500\u2500\u2500 + \u221a2\n",
              "    128             32             4          "
            ]
          },
          "execution_count": 46,
          "metadata": {},
          "output_type": "execute_result"
        }
      ],
      "source": [
        "f = sp.sqrt(x-10)\n",
        "t = sum([f.diff(x, i).subs(x, 12)/factorial(i) * (x-12)**i for i in range(4)])\n",
        "t"
      ]
    },
    {
      "cell_type": "code",
      "execution_count": 47,
      "metadata": {
        "collapsed": false
      },
      "outputs": [
        {
          "data": {
            "image/png": "[encoded data removed]",
            "text/latex": [
              "$$1.58113883008419$$"
            ],
            "text/plain": [
              "1.58113883008419"
            ]
          },
          "execution_count": 47,
          "metadata": {},
          "output_type": "execute_result"
        }
      ],
      "source": [
        "f.subs(x, 12.5)"
      ]
    },
    {
      "cell_type": "code",
      "execution_count": 48,
      "metadata": {
        "collapsed": false
      },
      "outputs": [
        {
          "data": {
            "image/png": "[encoded data removed]",
            "text/latex": [
              "$$1.5813227821457$$"
            ],
            "text/plain": [
              "1.58132278214570"
            ]
          },
          "execution_count": 48,
          "metadata": {},
          "output_type": "execute_result"
        }
      ],
      "source": [
        "t.subs(x, 12.5).evalf()"
      ]
    },
    {
      "cell_type": "code",
      "execution_count": 59,
      "metadata": {
        "collapsed": false
      },
      "outputs": [
        {
          "data": {
            "image/png": "[encoded data removed]",
            "text/latex": [
              "$$0.000183952061507453$$"
            ],
            "text/plain": [
              "0.000183952061507453"
            ]
          },
          "execution_count": 59,
          "metadata": {},
          "output_type": "execute_result"
        }
      ],
      "source": [
        "error1 = f.subs(x, 12.5) - t.subs(x, 12.5).evalf()\n",
        "abs(error1)"
      ]
    },
    {
      "cell_type": "markdown",
      "metadata": {},
      "source": [
        "Now predict the error at $12.25$:"
      ]
    },
    {
      "cell_type": "code",
      "execution_count": 60,
      "metadata": {
        "collapsed": false
      },
      "outputs": [
        {
          "data": {
            "image/png": "[encoded data removed]",
            "text/latex": [
              "$$1.14970038442158 \\cdot 10^{-5}$$"
            ],
            "text/plain": [
              "1.14970038442158e-5"
            ]
          },
          "execution_count": 60,
          "metadata": {},
          "output_type": "execute_result"
        }
      ],
      "source": [
        "abs(error1) * (0.25/0.5)**4"
      ]
    },
    {
      "cell_type": "code",
      "execution_count": 61,
      "metadata": {
        "collapsed": false
      },
      "outputs": [
        {
          "data": {
            "image/png": "[encoded data removed]",
            "text/latex": [
              "$$1.24076489040892 \\cdot 10^{-5}$$"
            ],
            "text/plain": [
              "1.24076489040892e-5"
            ]
          },
          "execution_count": 61,
          "metadata": {},
          "output_type": "execute_result"
        }
      ],
      "source": [
        "error2 = f.subs(x, 12.25) - t.subs(x, 12.25).evalf()\n",
        "abs(error2)"
      ]
    },
    {
      "cell_type": "code",
      "execution_count": null,
      "metadata": {
        "collapsed": true
      },
      "outputs": [],
      "source": []
    }
  ],
  "metadata": {
    "kernelspec": {
      "display_name": "Python 3",
      "language": "python",
      "name": "python3"
    },
    "language_info": {
      "codemirror_mode": {
        "name": "ipython",
        "version": 3
      },
      "file_extension": ".py",
      "mimetype": "text/x-python",
      "name": "python",
      "nbconvert_exporter": "python",
      "pygments_lexer": "ipython3",
      "version": "3.5.2+"
    },
    "widgets": {
      "state": {},
      "version": "1.1.2"
    }
  },
  "nbformat": 4,
  "nbformat_minor": 0
}