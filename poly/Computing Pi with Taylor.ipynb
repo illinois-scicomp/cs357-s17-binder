{
  "cells": [
    {
      "cell_type": "markdown",
      "metadata": {},
      "source": [
        "# Computing $\\pi$ with Taylor"
      ]
    },
    {
      "cell_type": "code",
      "execution_count": 16,
      "metadata": {
        "collapsed": true
      },
      "outputs": [],
      "source": [
        "from math import factorial\n",
        "\n",
        "import numpy as np\n",
        "import matplotlib.pyplot as plt\n",
        "\n",
        "import sympy as sp\n",
        "sp.init_printing()\n",
        "\n",
        "x = sp.Symbol(\"x\")"
      ]
    },
    {
      "cell_type": "code",
      "execution_count": 17,
      "metadata": {
        "collapsed": false
      },
      "outputs": [],
      "source": [
        "f = sp.sqrt(1-x**2)"
      ]
    },
    {
      "cell_type": "code",
      "execution_count": 18,
      "metadata": {
        "collapsed": false
      },
      "outputs": [
        {
          "data": {
            "text/plain": [
              "[<matplotlib.lines.Line2D at 0x7f14ec47f828>]"
            ]
          },
          "execution_count": 18,
          "metadata": {},
          "output_type": "execute_result"
        },
        {
          "data": {
            "image/png": "[encoded data removed]",
            "text/plain": [
              "<matplotlib.figure.Figure at 0x7f14ec1945f8>"
            ]
          },
          "metadata": {},
          "output_type": "display_data"
        }
      ],
      "source": [
        "pts = np.linspace(0, 1, 100)\n",
        "f_values = np.array([f.subs(x, pt) for pt in pts])\n",
        "plt.plot(pts, f_values)"
      ]
    },
    {
      "cell_type": "markdown",
      "metadata": {},
      "source": [
        "Get the Taylor coefficients into a list `coeffs`:"
      ]
    },
    {
      "cell_type": "code",
      "execution_count": 43,
      "metadata": {
        "collapsed": true
      },
      "outputs": [],
      "source": [
        "n = 50"
      ]
    },
    {
      "cell_type": "code",
      "execution_count": 44,
      "metadata": {
        "collapsed": false
      },
      "outputs": [
        {
          "data": {
            "image/png": "[encoded data removed]",
            "text/latex": [
              "$$\\left [ 1, \\quad 0, \\quad - \\frac{1}{2}, \\quad 0, \\quad - \\frac{1}{8}, \\quad 0, \\quad - \\frac{1}{16}, \\quad 0, \\quad - \\frac{5}{128}, \\quad 0, \\quad - \\frac{7}{256}, \\quad 0, \\quad - \\frac{21}{1024}, \\quad 0, \\quad - \\frac{33}{2048}, \\quad 0, \\quad - \\frac{429}{32768}, \\quad 0, \\quad - \\frac{715}{65536}, \\quad 0, \\quad - \\frac{2431}{262144}, \\quad 0, \\quad - \\frac{4199}{524288}, \\quad 0, \\quad - \\frac{29393}{4194304}, \\quad 0, \\quad - \\frac{52003}{8388608}, \\quad 0, \\quad - \\frac{185725}{33554432}, \\quad 0, \\quad - \\frac{334305}{67108864}, \\quad 0, \\quad - \\frac{9694845}{2147483648}, \\quad 0, \\quad - \\frac{17678835}{4294967296}, \\quad 0, \\quad - \\frac{64822395}{17179869184}, \\quad 0, \\quad - \\frac{119409675}{34359738368}, \\quad 0, \\quad - \\frac{883631595}{274877906944}, \\quad 0, \\quad - \\frac{1641030105}{549755813888}, \\quad 0, \\quad - \\frac{6116566755}{2199023255552}, \\quad 0, \\quad - \\frac{11435320455}{4398046511104}, \\quad 0, \\quad - \\frac{171529806825}{70368744177664}, \\quad 0\\right ]$$"
            ],
            "text/plain": [
              "\u23a1                                                        -21      -33      -42\n",
              "\u23a21, 0, -1/2, 0, -1/8, 0, -1/16, 0, -5/128, 0, -7/256, 0, \u2500\u2500\u2500\u2500, 0, \u2500\u2500\u2500\u2500, 0, \u2500\u2500\u2500\n",
              "\u23a3                                                        1024     2048     327\n",
              "\n",
              "9      -715      -2431      -4199      -29393      -52003      -185725      -3\n",
              "\u2500\u2500, 0, \u2500\u2500\u2500\u2500\u2500, 0, \u2500\u2500\u2500\u2500\u2500\u2500, 0, \u2500\u2500\u2500\u2500\u2500\u2500, 0, \u2500\u2500\u2500\u2500\u2500\u2500\u2500, 0, \u2500\u2500\u2500\u2500\u2500\u2500\u2500, 0, \u2500\u2500\u2500\u2500\u2500\u2500\u2500\u2500, 0, \u2500\u2500\n",
              "68     65536     262144     524288     4194304     8388608     33554432     67\n",
              "\n",
              "34305      -9694845       -17678835       -64822395      -119409675      -8836\n",
              "\u2500\u2500\u2500\u2500\u2500\u2500, 0, \u2500\u2500\u2500\u2500\u2500\u2500\u2500\u2500\u2500\u2500, 0, \u2500\u2500\u2500\u2500\u2500\u2500\u2500\u2500\u2500\u2500, 0, \u2500\u2500\u2500\u2500\u2500\u2500\u2500\u2500\u2500\u2500\u2500, 0, \u2500\u2500\u2500\u2500\u2500\u2500\u2500\u2500\u2500\u2500\u2500, 0, \u2500\u2500\u2500\u2500\u2500\n",
              "108864     2147483648     4294967296     17179869184     34359738368     27487\n",
              "\n",
              "31595       -1641030105       -6116566755      -11435320455      -171529806825\n",
              "\u2500\u2500\u2500\u2500\u2500\u2500\u2500, 0, \u2500\u2500\u2500\u2500\u2500\u2500\u2500\u2500\u2500\u2500\u2500\u2500, 0, \u2500\u2500\u2500\u2500\u2500\u2500\u2500\u2500\u2500\u2500\u2500\u2500\u2500, 0, \u2500\u2500\u2500\u2500\u2500\u2500\u2500\u2500\u2500\u2500\u2500\u2500\u2500, 0, \u2500\u2500\u2500\u2500\u2500\u2500\u2500\u2500\u2500\u2500\u2500\u2500\u2500\n",
              "7906944     549755813888     2199023255552     4398046511104     7036874417766\n",
              "\n",
              "    \u23a4\n",
              "\u2500, 0\u23a5\n",
              "4   \u23a6"
            ]
          },
          "execution_count": 44,
          "metadata": {},
          "output_type": "execute_result"
        }
      ],
      "source": [
        "coeffs = []\n",
        "for i in range(n):\n",
        "    coeffs.append(f.diff(x, i).subs(x, 0)/factorial(i))\n",
        "\n",
        "coeffs"
      ]
    },
    {
      "cell_type": "markdown",
      "metadata": {},
      "source": [
        "For comparison: Here's the full Taylor polynomial:"
      ]
    },
    {
      "cell_type": "code",
      "execution_count": 45,
      "metadata": {
        "collapsed": false,
        "scrolled": true
      },
      "outputs": [
        {
          "data": {
            "image/png": "[encoded data removed]",
            "text/latex": [
              "$$- \\frac{171529806825 x^{48}}{70368744177664} - \\frac{11435320455 x^{46}}{4398046511104} - \\frac{6116566755 x^{44}}{2199023255552} - \\frac{1641030105 x^{42}}{549755813888} - \\frac{883631595 x^{40}}{274877906944} - \\frac{119409675 x^{38}}{34359738368} - \\frac{64822395 x^{36}}{17179869184} - \\frac{17678835 x^{34}}{4294967296} - \\frac{9694845 x^{32}}{2147483648} - \\frac{334305 x^{30}}{67108864} - \\frac{185725 x^{28}}{33554432} - \\frac{52003 x^{26}}{8388608} - \\frac{29393 x^{24}}{4194304} - \\frac{4199 x^{22}}{524288} - \\frac{2431 x^{20}}{262144} - \\frac{715 x^{18}}{65536} - \\frac{429 x^{16}}{32768} - \\frac{33 x^{14}}{2048} - \\frac{21 x^{12}}{1024} - \\frac{7 x^{10}}{256} - \\frac{5 x^{8}}{128} - \\frac{x^{6}}{16} - \\frac{x^{4}}{8} - \\frac{x^{2}}{2} + 1$$"
            ],
            "text/plain": [
              "                48                46               44               42        \n",
              "  171529806825\u22c5x     11435320455\u22c5x     6116566755\u22c5x     1641030105\u22c5x     88363\n",
              "- \u2500\u2500\u2500\u2500\u2500\u2500\u2500\u2500\u2500\u2500\u2500\u2500\u2500\u2500\u2500\u2500 - \u2500\u2500\u2500\u2500\u2500\u2500\u2500\u2500\u2500\u2500\u2500\u2500\u2500\u2500\u2500 - \u2500\u2500\u2500\u2500\u2500\u2500\u2500\u2500\u2500\u2500\u2500\u2500\u2500\u2500 - \u2500\u2500\u2500\u2500\u2500\u2500\u2500\u2500\u2500\u2500\u2500\u2500\u2500\u2500 - \u2500\u2500\u2500\u2500\u2500\n",
              "   70368744177664     4398046511104    2199023255552     549755813888     2748\n",
              "\n",
              "      40              38             36             34            32          \n",
              "1595\u22c5x     119409675\u22c5x     64822395\u22c5x     17678835\u22c5x     9694845\u22c5x     334305\u22c5\n",
              "\u2500\u2500\u2500\u2500\u2500\u2500\u2500\u2500 - \u2500\u2500\u2500\u2500\u2500\u2500\u2500\u2500\u2500\u2500\u2500\u2500\u2500 - \u2500\u2500\u2500\u2500\u2500\u2500\u2500\u2500\u2500\u2500\u2500\u2500 - \u2500\u2500\u2500\u2500\u2500\u2500\u2500\u2500\u2500\u2500\u2500\u2500 - \u2500\u2500\u2500\u2500\u2500\u2500\u2500\u2500\u2500\u2500\u2500 - \u2500\u2500\u2500\u2500\u2500\u2500\u2500\n",
              "77906944    34359738368    17179869184     4294967296     2147483648    671088\n",
              "\n",
              " 30           28          26          24         22         20        18      \n",
              "x     185725\u22c5x     52003\u22c5x     29393\u22c5x     4199\u22c5x     2431\u22c5x     715\u22c5x     429\n",
              "\u2500\u2500\u2500 - \u2500\u2500\u2500\u2500\u2500\u2500\u2500\u2500\u2500\u2500 - \u2500\u2500\u2500\u2500\u2500\u2500\u2500\u2500\u2500 - \u2500\u2500\u2500\u2500\u2500\u2500\u2500\u2500\u2500 - \u2500\u2500\u2500\u2500\u2500\u2500\u2500\u2500 - \u2500\u2500\u2500\u2500\u2500\u2500\u2500\u2500 - \u2500\u2500\u2500\u2500\u2500\u2500\u2500 - \u2500\u2500\u2500\n",
              "64     33554432     8388608     4194304     524288     262144     65536     32\n",
              "\n",
              "  16       14       12      10      8    6    4    2    \n",
              "\u22c5x     33\u22c5x     21\u22c5x     7\u22c5x     5\u22c5x    x    x    x     \n",
              "\u2500\u2500\u2500\u2500 - \u2500\u2500\u2500\u2500\u2500\u2500 - \u2500\u2500\u2500\u2500\u2500\u2500 - \u2500\u2500\u2500\u2500\u2500 - \u2500\u2500\u2500\u2500 - \u2500\u2500 - \u2500\u2500 - \u2500\u2500 + 1\n",
              "768     2048     1024     256    128    16   8    2     "
            ]
          },
          "execution_count": 45,
          "metadata": {},
          "output_type": "execute_result"
        }
      ],
      "source": [
        "taylor = 0\n",
        "for i in range(n):\n",
        "    taylor += f.diff(x, i).subs(x, 0)/factorial(i) * x**i\n",
        "\n",
        "taylor"
      ]
    },
    {
      "cell_type": "markdown",
      "metadata": {},
      "source": [
        "Now compute an approximate integral:"
      ]
    },
    {
      "cell_type": "code",
      "execution_count": 46,
      "metadata": {
        "collapsed": true
      },
      "outputs": [],
      "source": [
        "tmp = 0\n",
        "for i in range(n):\n",
        "    tmp += (coeffs[i] * 1/(i+1) * (1**(i+1) - 0**(i+1))).evalf()"
      ]
    },
    {
      "cell_type": "code",
      "execution_count": 47,
      "metadata": {
        "collapsed": false
      },
      "outputs": [
        {
          "name": "stdout",
          "output_type": "stream",
          "text": [
            "3.14468451860141 3.141592653589793\n"
          ]
        }
      ],
      "source": [
        "my_pi = 4*tmp\n",
        "print(my_pi, np.pi)"
      ]
    },
    {
      "cell_type": "markdown",
      "metadata": {},
      "source": [
        "*   What do you think?\n",
        "*   Did that work well?\n",
        "*   Did it have a right to work well?\n",
        "*   One important aspect of studying numerical methods:\n",
        "\n",
        "    *   When do things like this work well/efficiently?\n",
        "    *   When do they not?\n",
        "    *   Why?"
      ]
    },
    {
      "cell_type": "code",
      "execution_count": null,
      "metadata": {
        "collapsed": true
      },
      "outputs": [],
      "source": []
    }
  ],
  "metadata": {
    "kernelspec": {
      "display_name": "Python 3",
      "language": "python",
      "name": "python3"
    },
    "language_info": {
      "codemirror_mode": {
        "name": "ipython",
        "version": 3
      },
      "file_extension": ".py",
      "mimetype": "text/x-python",
      "name": "python",
      "nbconvert_exporter": "python",
      "pygments_lexer": "ipython3",
      "version": "3.5.2+"
    },
    "widgets": {
      "state": {},
      "version": "1.1.2"
    }
  },
  "nbformat": 4,
  "nbformat_minor": 0
}