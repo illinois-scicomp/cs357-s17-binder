{
  "cells": [
    {
      "cell_type": "markdown",
      "metadata": {},
      "source": [
        "# Counter-Based Random Number Generation"
      ]
    },
    {
      "cell_type": "code",
      "execution_count": 38,
      "metadata": {
        "collapsed": true
      },
      "outputs": [],
      "source": [
        "from Crypto.Cipher import AES\n",
        "import os\n",
        "import numpy as np\n",
        "import matplotlib.pyplot as plt"
      ]
    },
    {
      "cell_type": "code",
      "execution_count": 7,
      "metadata": {
        "collapsed": true
      },
      "outputs": [],
      "source": [
        "#secret = os.urandom(BLOCK_SIZE)\n",
        "secret = np.array([23842839,234234,2342314,2342342], dtype=np.uint32)"
      ]
    },
    {
      "cell_type": "code",
      "execution_count": 12,
      "metadata": {
        "collapsed": true
      },
      "outputs": [],
      "source": [
        "counter = np.array([1,0,0,0], dtype=np.uint32)"
      ]
    },
    {
      "cell_type": "code",
      "execution_count": 13,
      "metadata": {
        "collapsed": true
      },
      "outputs": [],
      "source": [
        "aes = AES.new(secret)"
      ]
    },
    {
      "cell_type": "code",
      "execution_count": 14,
      "metadata": {
        "collapsed": false
      },
      "outputs": [
        {
          "data": {
            "text/plain": [
              "b'0\\xa8\\xa9N\\xad\\x8d_gIC\\x0fb\\xb0E\\xa34'"
            ]
          },
          "execution_count": 14,
          "metadata": {},
          "output_type": "execute_result"
        }
      ],
      "source": [
        "aes.encrypt(counter)"
      ]
    },
    {
      "cell_type": "code",
      "execution_count": 15,
      "metadata": {
        "collapsed": false
      },
      "outputs": [
        {
          "data": {
            "text/plain": [
              "b'0\\xa8\\xa9N\\xad\\x8d_gIC\\x0fb\\xb0E\\xa34'"
            ]
          },
          "execution_count": 15,
          "metadata": {},
          "output_type": "execute_result"
        }
      ],
      "source": [
        "aes.encrypt(counter)"
      ]
    },
    {
      "cell_type": "code",
      "execution_count": 33,
      "metadata": {
        "collapsed": false
      },
      "outputs": [
        {
          "data": {
            "text/plain": [
              "array([3145698134, 4097296222, 1305499519, 1043286573], dtype=uint32)"
            ]
          },
          "execution_count": 33,
          "metadata": {},
          "output_type": "execute_result"
        }
      ],
      "source": [
        "x = np.fromstring(aes.encrypt(counter), dtype=np.uint32)\n",
        "counter[0] += 1\n",
        "x"
      ]
    },
    {
      "cell_type": "markdown",
      "metadata": {},
      "source": [
        "## Batched Random Number Generation"
      ]
    },
    {
      "cell_type": "code",
      "execution_count": 43,
      "metadata": {
        "collapsed": false
      },
      "outputs": [],
      "source": [
        "counters = np.zeros((100000, 4), dtype=np.uint32)\n",
        "counters[:, 0] = np.arange(len(counters))"
      ]
    },
    {
      "cell_type": "code",
      "execution_count": 44,
      "metadata": {
        "collapsed": true
      },
      "outputs": [],
      "source": [
        "numbers = np.fromstring(aes.encrypt(counters), dtype=np.uint32).reshape(-1)"
      ]
    },
    {
      "cell_type": "code",
      "execution_count": 45,
      "metadata": {
        "collapsed": false
      },
      "outputs": [
        {
          "data": {
            "text/plain": [
              "(array([ 40000.,  39778.,  40012.,  40060.,  40176.,  40116.,  39876.,\n",
              "         40196.,  39793.,  39993.]),\n",
              " array([  3.20370000e+04,   4.29525053e+08,   8.59018069e+08,\n",
              "          1.28851109e+09,   1.71800410e+09,   2.14749712e+09,\n",
              "          2.57699013e+09,   3.00648315e+09,   3.43597617e+09,\n",
              "          3.86546918e+09,   4.29496220e+09]),\n",
              " <a list of 10 Patch objects>)"
            ]
          },
          "execution_count": 45,
          "metadata": {},
          "output_type": "execute_result"
        },
        {
          "data": {
            "image/png": "[encoded data removed]",
            "text/plain": [
              "<matplotlib.figure.Figure at 0x7f794d15a780>"
            ]
          },
          "metadata": {},
          "output_type": "display_data"
        }
      ],
      "source": [
        "plt.hist(numbers)"
      ]
    },
    {
      "cell_type": "markdown",
      "metadata": {},
      "source": [
        "* How would you convert that to real numbers between 0 and 1?"
      ]
    }
  ],
  "metadata": {
    "kernelspec": {
      "display_name": "Python 3",
      "language": "python",
      "name": "python3"
    },
    "language_info": {
      "codemirror_mode": {
        "name": "ipython",
        "version": 3
      },
      "file_extension": ".py",
      "mimetype": "text/x-python",
      "name": "python",
      "nbconvert_exporter": "python",
      "pygments_lexer": "ipython3",
      "version": "3.5.2+"
    }
  },
  "nbformat": 4,
  "nbformat_minor": 1
}