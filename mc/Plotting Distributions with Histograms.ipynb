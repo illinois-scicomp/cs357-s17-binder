{
  "cells": [
    {
      "cell_type": "markdown",
      "metadata": {},
      "source": [
        "# Plotting Distributions with Histograms"
      ]
    },
    {
      "cell_type": "code",
      "execution_count": 1,
      "metadata": {
        "collapsed": true
      },
      "outputs": [],
      "source": [
        "import numpy as np\n",
        "import matplotlib.pyplot as plt"
      ]
    },
    {
      "cell_type": "markdown",
      "metadata": {},
      "source": [
        "Make $n$ realizations of a *uniformly distributed* 'random variable' between $[0, 1)$:"
      ]
    },
    {
      "cell_type": "code",
      "execution_count": 25,
      "metadata": {
        "collapsed": true
      },
      "outputs": [],
      "source": [
        "n = 1000000"
      ]
    },
    {
      "cell_type": "code",
      "execution_count": 26,
      "metadata": {
        "collapsed": false
      },
      "outputs": [],
      "source": [
        "x = np.random.rand(n)"
      ]
    },
    {
      "cell_type": "markdown",
      "metadata": {},
      "source": [
        "Now plot a histogram of the values of $x$. Explore the `normed=True` and `bins=N` arguments to `hist()`."
      ]
    },
    {
      "cell_type": "code",
      "execution_count": 35,
      "metadata": {
        "collapsed": false
      },
      "outputs": [
        {
          "data": {
            "text/plain": [
              "(array([ 1.00050314,  0.99952314,  0.99558313,  1.00068314,  0.99910314,\n",
              "         1.00654316,  0.99696313,  1.00544316,  1.00206315,  0.99656313,\n",
              "         1.00090314,  0.99814313,  0.99738313,  1.00246315,  0.99800313,\n",
              "         0.99722313,  1.00034314,  1.00536316,  1.00016314,  0.99710313]),\n",
              " array([  1.90800837e-06,   5.00017510e-02,   1.00001594e-01,\n",
              "          1.50001437e-01,   2.00001280e-01,   2.50001123e-01,\n",
              "          3.00000966e-01,   3.50000809e-01,   4.00000652e-01,\n",
              "          4.50000495e-01,   5.00000338e-01,   5.50000181e-01,\n",
              "          6.00000024e-01,   6.49999867e-01,   6.99999710e-01,\n",
              "          7.49999553e-01,   7.99999396e-01,   8.49999239e-01,\n",
              "          8.99999082e-01,   9.49998925e-01,   9.99998768e-01]),\n",
              " <a list of 20 Patch objects>)"
            ]
          },
          "execution_count": 35,
          "metadata": {},
          "output_type": "execute_result"
        },
        {
          "data": {
            "image/png": "[encoded data removed]",
            "text/plain": [
              "<matplotlib.figure.Figure at 0x7f6a4c8bf668>"
            ]
          },
          "metadata": {},
          "output_type": "display_data"
        }
      ],
      "source": [
        "plt.hist(x, normed=True, bins=20)"
      ]
    },
    {
      "cell_type": "markdown",
      "metadata": {},
      "source": [
        "Now plot the distributions of some *expressions* involving $x$:"
      ]
    },
    {
      "cell_type": "code",
      "execution_count": 47,
      "metadata": {
        "collapsed": false
      },
      "outputs": [],
      "source": [
        "#expr = -1 + 2 * x\n",
        "#expr = x**2\n",
        "#expr = np.sqrt(np.abs(x))\n",
        "#expr = np.sin(2*np.pi*x)\n",
        "#expr = np.log(evens)\n",
        "\n",
        "if 1:\n",
        "    evens = x[::2]\n",
        "    odds = x[1::2]\n",
        "    \n",
        "    r = np.sqrt(-2*np.log(evens))\n",
        "    \n",
        "    expr = np.empty_like(x)\n",
        "    expr[::2] = r*np.cos(2*np.pi*odds)\n",
        "    expr[1::2] = r*np.sin(2*np.pi*odds)\n",
        "    "
      ]
    },
    {
      "cell_type": "code",
      "execution_count": 48,
      "metadata": {
        "collapsed": false
      },
      "outputs": [
        {
          "data": {
            "text/plain": [
              "<matplotlib.legend.Legend at 0x7f6a43fba080>"
            ]
          },
          "execution_count": 48,
          "metadata": {},
          "output_type": "execute_result"
        },
        {
          "data": {
            "image/png": "[encoded data removed]",
            "text/plain": [
              "<matplotlib.figure.Figure at 0x7f6a43fe32e8>"
            ]
          },
          "metadata": {},
          "output_type": "display_data"
        }
      ],
      "source": [
        "plt.hist(x, label=\"$x$\", normed=True, bins=20)\n",
        "plt.hist(expr, label=\"Expression\", normed=True, bins=20)\n",
        "plt.legend(loc=\"best\")"
      ]
    },
    {
      "cell_type": "markdown",
      "metadata": {},
      "source": [
        "*   Any observations about the bin widths?\n",
        "*   About that last one: What's the range of `r`?\n",
        "*   This last one is called the [Box-Muller transform](https://en.wikipedia.org/wiki/Box%E2%80%93Muller_transform).\n",
        "    From two uniformly-distributed random variables, it yields two random variables with a standard normal distribution."
      ]
    },
    {
      "cell_type": "code",
      "execution_count": null,
      "metadata": {
        "collapsed": true
      },
      "outputs": [],
      "source": []
    }
  ],
  "metadata": {
    "kernelspec": {
      "display_name": "Python 3",
      "language": "python",
      "name": "python3"
    },
    "language_info": {
      "codemirror_mode": {
        "name": "ipython",
        "version": 3
      },
      "file_extension": ".py",
      "mimetype": "text/x-python",
      "name": "python",
      "nbconvert_exporter": "python",
      "pygments_lexer": "ipython3",
      "version": "3.5.2+"
    },
    "widgets": {
      "state": {},
      "version": "1.1.2"
    }
  },
  "nbformat": 4,
  "nbformat_minor": 0
}