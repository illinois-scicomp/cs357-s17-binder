{
  "cells": [
    {
      "cell_type": "markdown",
      "metadata": {},
      "source": [
        "# Errors in Sampling"
      ]
    },
    {
      "cell_type": "markdown",
      "metadata": {},
      "source": [
        "We reuse the setup from the computation of $\\pi$, but run this many times for a number of sample counts."
      ]
    },
    {
      "cell_type": "code",
      "execution_count": 2,
      "metadata": {
        "collapsed": true
      },
      "outputs": [],
      "source": [
        "import numpy as np\n",
        "import matplotlib.pyplot as plt"
      ]
    },
    {
      "cell_type": "code",
      "execution_count": 21,
      "metadata": {
        "collapsed": false
      },
      "outputs": [],
      "source": [
        "sample_counts = np.arange(10, 2000, 20)\n",
        "\n",
        "nexperiments = 1000"
      ]
    },
    {
      "cell_type": "code",
      "execution_count": 22,
      "metadata": {
        "collapsed": false
      },
      "outputs": [],
      "source": [
        "avg_errors = []\n",
        "\n",
        "for nsamples in sample_counts:\n",
        "   \n",
        "    errors = []\n",
        "    \n",
        "    for experiment in range(nexperiments):\n",
        "        # draw samples\n",
        "        samples = np.random.rand(2, nsamples)\n",
        "        \n",
        "        # compute p\n",
        "        p = np.zeros(nsamples)\n",
        "        r = samples[0]**2 + samples[1]**2\n",
        "        p[r<=1] = 1\n",
        "        \n",
        "        approx_pi = 4*np.sum(p) / nsamples\n",
        "        errors.append(np.abs(approx_pi - np.pi))\n",
        "        \n",
        "    avg_errors.append(np.sum(errors)/nexperiments)\n",
        "    \n",
        "avg_errors = np.array(avg_errors)"
      ]
    },
    {
      "cell_type": "code",
      "execution_count": 23,
      "metadata": {
        "collapsed": false
      },
      "outputs": [
        {
          "data": {
            "image/png": "[encoded data removed]",
            "text/plain": [
              "<matplotlib.figure.Figure at 0x7f0b53e695c0>"
            ]
          },
          "metadata": {},
          "output_type": "display_data"
        }
      ],
      "source": [
        "plt.loglog(sample_counts, avg_errors)\n",
        "plt.xlabel(\"# Samples\")\n",
        "plt.ylabel(\"Error\")\n",
        "plt.grid()\n"
      ]
    },
    {
      "cell_type": "markdown",
      "metadata": {},
      "source": [
        "Empirically: Average error\n",
        "\n",
        "$$E=O(\\frac1{\\sqrt n})$$"
      ]
    },
    {
      "cell_type": "markdown",
      "metadata": {},
      "source": [
        "Precise statement: [Central Limit Theorem](https://en.wikipedia.org/wiki/Central_limit_theorem)"
      ]
    },
    {
      "cell_type": "code",
      "execution_count": null,
      "metadata": {
        "collapsed": true
      },
      "outputs": [],
      "source": []
    }
  ],
  "metadata": {
    "kernelspec": {
      "display_name": "Python 3",
      "language": "python",
      "name": "python3"
    },
    "language_info": {
      "codemirror_mode": {
        "name": "ipython",
        "version": 3
      },
      "file_extension": ".py",
      "mimetype": "text/x-python",
      "name": "python",
      "nbconvert_exporter": "python",
      "pygments_lexer": "ipython3",
      "version": "3.5.2+"
    },
    "widgets": {
      "state": {},
      "version": "1.1.2"
    }
  },
  "nbformat": 4,
  "nbformat_minor": 0
}