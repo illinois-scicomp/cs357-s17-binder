{
  "cells": [
    {
      "cell_type": "markdown",
      "metadata": {},
      "source": [
        "# Rates of Convergence"
      ]
    },
    {
      "cell_type": "code",
      "execution_count": 2,
      "metadata": {
        "collapsed": false
      },
      "outputs": [],
      "source": [
        "import numpy as np"
      ]
    },
    {
      "cell_type": "code",
      "execution_count": 3,
      "metadata": {
        "collapsed": false
      },
      "outputs": [],
      "source": [
        "C = 1/2\n",
        "e0 = 0.1*np.random.rand()\n",
        "\n",
        "order = 1"
      ]
    },
    {
      "cell_type": "code",
      "execution_count": 4,
      "metadata": {
        "collapsed": false
      },
      "outputs": [
        {
          "name": "stdout",
          "output_type": "stream",
          "text": [
            "0.0325355469290095\n",
            "0.01626777346450475\n",
            "0.008133886732252375\n",
            "0.0040669433661261875\n",
            "0.0020334716830630937\n",
            "0.0010167358415315469\n",
            "0.0005083679207657734\n",
            "0.0002541839603828867\n",
            "0.00012709198019144336\n",
            "6.354599009572168e-05\n",
            "3.177299504786084e-05\n",
            "1.588649752393042e-05\n",
            "7.94324876196521e-06\n",
            "3.971624380982605e-06\n",
            "1.9858121904913025e-06\n",
            "9.929060952456512e-07\n",
            "4.964530476228256e-07\n",
            "2.482265238114128e-07\n",
            "1.241132619057064e-07\n",
            "6.20566309528532e-08\n"
          ]
        }
      ],
      "source": [
        "e = e0\n",
        "for i in range(20):\n",
        "    print(e)\n",
        "    e = C*e**order"
      ]
    },
    {
      "cell_type": "markdown",
      "metadata": {},
      "source": [
        "* What do you observe about the number of iterations it takes to decrease the error by a factor of 10 for `rate=1,2,3`?\n",
        "* Is there a point to faster than cubic convergence?"
      ]
    },
    {
      "cell_type": "markdown",
      "metadata": {},
      "source": [
        "------------------\n",
        "Now let's see if we can figure out the convergence order from the data.\n",
        "\n",
        "Here's a function that spits out some fake errors of a process that converges to $q$th order:"
      ]
    },
    {
      "cell_type": "code",
      "execution_count": 5,
      "metadata": {
        "collapsed": false
      },
      "outputs": [],
      "source": [
        "def make_rate_q_errors(q, e0, n=10, C=0.7):\n",
        "    errors = []\n",
        "    e = e0\n",
        "    for i in range(n):\n",
        "        errors.append(e)\n",
        "        e = C*e**q\n",
        "        \n",
        "    return errors"
      ]
    },
    {
      "cell_type": "code",
      "execution_count": 6,
      "metadata": {
        "collapsed": false
      },
      "outputs": [],
      "source": [
        "errors = make_rate_q_errors(1, e0)"
      ]
    },
    {
      "cell_type": "code",
      "execution_count": 7,
      "metadata": {
        "collapsed": false
      },
      "outputs": [
        {
          "name": "stdout",
          "output_type": "stream",
          "text": [
            "0.0325355469290095\n",
            "0.022774882850306648\n",
            "0.015942417995214654\n",
            "0.011159692596650258\n",
            "0.00781178481765518\n",
            "0.005468249372358625\n",
            "0.0038277745606510377\n",
            "0.002679442192455726\n",
            "0.001875609534719008\n",
            "0.0013129266743033055\n"
          ]
        }
      ],
      "source": [
        "for e in errors:\n",
        "    print(e)"
      ]
    },
    {
      "cell_type": "code",
      "execution_count": 8,
      "metadata": {
        "collapsed": false
      },
      "outputs": [
        {
          "name": "stdout",
          "output_type": "stream",
          "text": [
            "0.7\n",
            "0.7000000000000001\n",
            "0.7\n",
            "0.7\n",
            "0.7\n",
            "0.7\n",
            "0.7\n",
            "0.7\n",
            "0.7\n"
          ]
        }
      ],
      "source": [
        "for i in range(len(errors)-1):\n",
        "    print(errors[i+1]/errors[i])"
      ]
    },
    {
      "cell_type": "code",
      "execution_count": null,
      "metadata": {
        "collapsed": false
      },
      "outputs": [],
      "source": []
    }
  ],
  "metadata": {},
  "nbformat": 4,
  "nbformat_minor": 0
}