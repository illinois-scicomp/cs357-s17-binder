{
  "cells": [
    {
      "cell_type": "markdown",
      "metadata": {},
      "source": [
        "# Power Iteration and its Variants"
      ]
    },
    {
      "cell_type": "code",
      "execution_count": 1,
      "metadata": {
        "collapsed": false
      },
      "outputs": [],
      "source": [
        "import numpy as np\n",
        "import numpy.linalg as la"
      ]
    },
    {
      "cell_type": "markdown",
      "metadata": {},
      "source": [
        "Let's  prepare a matrix with some random or deliberately chosen eigenvalues:"
      ]
    },
    {
      "cell_type": "code",
      "execution_count": 2,
      "metadata": {
        "collapsed": false
      },
      "outputs": [
        {
          "name": "stdout",
          "output_type": "stream",
          "text": [
            "[-2.667651   -0.95797093 -0.33019549 -0.29151942 -0.18635343 -0.14418093]\n"
          ]
        }
      ],
      "source": [
        "n = 6\n",
        "\n",
        "if 1:\n",
        "    np.random.seed(70)\n",
        "    eigvecs = np.random.randn(n, n)\n",
        "    eigvals = np.sort(np.random.randn(n))\n",
        "    # Uncomment for near-duplicate largest-magnitude eigenvalue\n",
        "    # eigvals[1] = eigvals[0] + 1e-3\n",
        "\n",
        "    A = eigvecs.dot(np.diag(eigvals)).dot(la.inv(eigvecs))\n",
        "    print(eigvals)\n",
        "    \n",
        "else:\n",
        "    # Complex eigenvalues\n",
        "    np.random.seed(40)\n",
        "    A = np.random.randn(n, n)\n",
        "    print(la.eig(A)[0])"
      ]
    },
    {
      "cell_type": "markdown",
      "metadata": {},
      "source": [
        "Let's also pick an initial vector:"
      ]
    },
    {
      "cell_type": "code",
      "execution_count": 3,
      "metadata": {
        "collapsed": false
      },
      "outputs": [
        {
          "data": {
            "text/plain": [
              "array([ 2.26930477,  0.66356156,  0.8991019 , -0.36580094,  0.46269004,\n",
              "        0.079874  ])"
            ]
          },
          "execution_count": 3,
          "metadata": {},
          "output_type": "execute_result"
        }
      ],
      "source": [
        "x0 = np.random.randn(n)\n",
        "x0"
      ]
    },
    {
      "cell_type": "markdown",
      "metadata": {},
      "source": [
        "### Power iteration"
      ]
    },
    {
      "cell_type": "code",
      "execution_count": 4,
      "metadata": {
        "collapsed": false
      },
      "outputs": [],
      "source": [
        "x = x0"
      ]
    },
    {
      "cell_type": "markdown",
      "metadata": {},
      "source": [
        "Now implement plain power iteration.\n",
        "\n",
        "Run the below cell in-place (Ctrl-Enter) many times."
      ]
    },
    {
      "cell_type": "code",
      "execution_count": 5,
      "metadata": {
        "collapsed": false
      },
      "outputs": [
        {
          "data": {
            "text/plain": [
              "array([ -7.70532247,  22.15077824,   2.86452055,  -4.64791114,\n",
              "         4.0426268 ,  11.65071267])"
            ]
          },
          "execution_count": 5,
          "metadata": {},
          "output_type": "execute_result"
        }
      ],
      "source": [
        "x = A @ x\n",
        "x"
      ]
    },
    {
      "cell_type": "markdown",
      "metadata": {},
      "source": [
        "* What's the problem with this method?\n",
        "* Does anything useful come of this?\n",
        "* How do we fix it?"
      ]
    },
    {
      "cell_type": "markdown",
      "metadata": {},
      "source": [
        "### Normalized power iteration"
      ]
    },
    {
      "cell_type": "markdown",
      "metadata": {},
      "source": [
        "Back to the beginning: Reset to the initial vector."
      ]
    },
    {
      "cell_type": "code",
      "execution_count": 6,
      "metadata": {
        "collapsed": false
      },
      "outputs": [],
      "source": [
        "x = x0/la.norm(x0)"
      ]
    },
    {
      "cell_type": "markdown",
      "metadata": {},
      "source": [
        "Implement normalized power iteration.\n",
        "\n",
        "Run this cell in-place (Ctrl-Enter) many times."
      ]
    },
    {
      "cell_type": "code",
      "execution_count": 28,
      "metadata": {
        "collapsed": false
      },
      "outputs": [
        {
          "name": "stdout",
          "output_type": "stream",
          "text": [
            "2.66765099566\n",
            "[ 0.23686305 -0.84478709 -0.13775234  0.18146277 -0.15089938 -0.39440539]\n"
          ]
        }
      ],
      "source": [
        "x = A @ x\n",
        "nrm = la.norm(x)\n",
        "x = x/nrm\n",
        "\n",
        "print(nrm)\n",
        "print(x)"
      ]
    },
    {
      "cell_type": "markdown",
      "metadata": {},
      "source": [
        "* What do you observe about the norm?\n",
        "* What about the sign?\n",
        "* What is the vector $x$ now?\n",
        "\n",
        "Extensions:\n",
        "\n",
        "* Now try the matrix variants above.\n",
        "* Suggest a better way of estimating the eigenvalue. [Hint](https://en.wikipedia.org/wiki/Rayleigh_quotient)"
      ]
    },
    {
      "cell_type": "markdown",
      "metadata": {},
      "source": [
        "------\n",
        "What if we want the smallest eigenvalue (by magnitude)?\n",
        "\n",
        "Once again, reset to the beginning."
      ]
    },
    {
      "cell_type": "code",
      "execution_count": 29,
      "metadata": {
        "collapsed": false
      },
      "outputs": [],
      "source": [
        "x = x0/la.norm(x0)"
      ]
    },
    {
      "cell_type": "markdown",
      "metadata": {},
      "source": [
        "Run the cell below in-place many times."
      ]
    },
    {
      "cell_type": "code",
      "execution_count": 40,
      "metadata": {
        "collapsed": false
      },
      "outputs": [
        {
          "name": "stdout",
          "output_type": "stream",
          "text": [
            "0.14190382209\n",
            "[ 0.5425893   0.35585848 -0.08034459 -0.5334476   0.15108771 -0.51489077]\n"
          ]
        }
      ],
      "source": [
        "x = la.solve(A, x)\n",
        "nrm = la.norm(x)\n",
        "x = x/nrm\n",
        "\n",
        "print(1/nrm)\n",
        "print(x)"
      ]
    },
    {
      "cell_type": "markdown",
      "metadata": {},
      "source": [
        "* What's the computational cost per iteration?\n",
        "* Can we make this method search for a specific eigenvalue?\n",
        "* What is this [method](https://en.wikipedia.org/wiki/Inverse_iteration) called?"
      ]
    },
    {
      "cell_type": "markdown",
      "metadata": {},
      "source": [
        "--------------\n",
        "Can we feed an estimate of the current approximate eigenvalue back into the calculation? (Hint: Rayleigh quotient)\n",
        "\n",
        "Reset once more."
      ]
    },
    {
      "cell_type": "code",
      "execution_count": null,
      "metadata": {
        "collapsed": false
      },
      "outputs": [],
      "source": [
        "x = x0/la.norm(x0)"
      ]
    },
    {
      "cell_type": "markdown",
      "metadata": {},
      "source": [
        "Run this cell in-place (Ctrl-Enter) many times."
      ]
    },
    {
      "cell_type": "code",
      "execution_count": 53,
      "metadata": {
        "collapsed": false
      },
      "outputs": [
        {
          "name": "stdout",
          "output_type": "stream",
          "text": [
            "-0.14418092561\n",
            "[ 0.51811072  0.37911595 -0.08643954 -0.58285615  0.14511777 -0.46859378]\n"
          ]
        }
      ],
      "source": [
        "sigma = np.dot(x, np.dot(A, x))/np.dot(x, x)\n",
        "x = la.solve(A-sigma*np.eye(n), x)\n",
        "x = x/la.norm(x)\n",
        "\n",
        "print(sigma)\n",
        "print(x)"
      ]
    },
    {
      "cell_type": "markdown",
      "metadata": {},
      "source": [
        "* What's this [method](https://en.wikipedia.org/wiki/Rayleigh_quotient_iteration) called?\n",
        "* What's a reasonable stopping criterion?\n",
        "* Computational downside of this iteration?"
      ]
    }
  ],
  "metadata": {
    "kernelspec": {
      "display_name": "Python 3",
      "language": "python",
      "name": "python3"
    },
    "language_info": {
      "codemirror_mode": {
        "name": "ipython",
        "version": 3
      },
      "file_extension": ".py",
      "mimetype": "text/x-python",
      "name": "python",
      "nbconvert_exporter": "python",
      "pygments_lexer": "ipython3",
      "version": "3.5.1+"
    }
  },
  "nbformat": 4,
  "nbformat_minor": 0
}