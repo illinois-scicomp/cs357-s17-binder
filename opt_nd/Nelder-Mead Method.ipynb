{
  "cells": [
    {
      "cell_type": "markdown",
      "metadata": {},
      "source": [
        "# Nelder-Mead Method"
      ]
    },
    {
      "cell_type": "code",
      "execution_count": 3,
      "metadata": {
        "collapsed": false
      },
      "outputs": [
        {
          "data": {
            "text/html": [
              "<a href='nelder-mead.gif' target='_blank'>nelder-mead.gif</a><br>"
            ],
            "text/plain": [
              "/home/andreas/teaching/repos/cs357/2014fall/demos/12-optimization/nelder-mead.gif"
            ]
          },
          "execution_count": 3,
          "metadata": {},
          "output_type": "execute_result"
        }
      ],
      "source": [
        "from IPython.display import FileLink\n",
        "FileLink(\"nelder-mead.gif\")"
      ]
    },
    {
      "cell_type": "markdown",
      "metadata": {},
      "source": [
        "More information: [Nelder-Mead method](https://en.wikipedia.org/wiki/Nelder\u2013Mead_method) (Wikipedia)\n",
        "\n",
        "(That's also where the animation is from.)"
      ]
    }
  ],
  "metadata": {},
  "nbformat": 4,
  "nbformat_minor": 0
}