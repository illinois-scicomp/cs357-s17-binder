{
  "cells": [
    {
      "cell_type": "markdown",
      "metadata": {},
      "source": [
        "# Finite Differences"
      ]
    },
    {
      "cell_type": "code",
      "execution_count": 1,
      "metadata": {
        "collapsed": false
      },
      "outputs": [],
      "source": [
        "import numpy as np\n",
        "import numpy.linalg as la\n",
        "import matplotlib.pyplot as pt"
      ]
    },
    {
      "cell_type": "markdown",
      "metadata": {},
      "source": [
        "### Part 1: Examining the Differentiation Matrix"
      ]
    },
    {
      "cell_type": "code",
      "execution_count": 2,
      "metadata": {
        "collapsed": false
      },
      "outputs": [
        {
          "data": {
            "text/plain": [
              "array([-0.125,  0.   ,  0.125])"
            ]
          },
          "execution_count": 2,
          "metadata": {},
          "output_type": "execute_result"
        }
      ],
      "source": [
        "degree = 2\n",
        "h = 0.25\n",
        "\n",
        "# Assume even degree so that there's a well-defined middle node.\n",
        "assert degree % 2 == 0\n",
        "\n",
        "nodes = np.linspace(-h/2, h/2, degree+1)\n",
        "nodes"
      ]
    },
    {
      "cell_type": "markdown",
      "metadata": {},
      "source": [
        "Now construct `V` (the generalized Vandermonde) and `Vprime` (the generalized Vandermonde for the derivatives):"
      ]
    },
    {
      "cell_type": "code",
      "execution_count": 3,
      "metadata": {
        "collapsed": false
      },
      "outputs": [],
      "source": [
        "V = np.array([\n",
        "    nodes**i\n",
        "    for i in range(degree+1)\n",
        "]).T"
      ]
    },
    {
      "cell_type": "code",
      "execution_count": 4,
      "metadata": {
        "collapsed": false
      },
      "outputs": [],
      "source": [
        "def monomial_deriv(i, x):\n",
        "    if i == 0:\n",
        "        return 0*x\n",
        "    else:\n",
        "        return i*nodes**(i-1)\n",
        "\n",
        "Vprime = np.array([\n",
        "    monomial_deriv(i, nodes)\n",
        "    for i in range(degree+1)\n",
        "]).T"
      ]
    },
    {
      "cell_type": "markdown",
      "metadata": {},
      "source": [
        "Combine them to form the derivative matrix:"
      ]
    },
    {
      "cell_type": "code",
      "execution_count": 6,
      "metadata": {
        "collapsed": false
      },
      "outputs": [
        {
          "data": {
            "text/plain": [
              "array([[-12.,  16.,  -4.],\n",
              "       [ -4.,   0.,   4.],\n",
              "       [  4., -16.,  12.]])"
            ]
          },
          "execution_count": 6,
          "metadata": {},
          "output_type": "execute_result"
        }
      ],
      "source": [
        "diff_mat = Vprime.dot(la.inv(V))\n",
        "diff_mat"
      ]
    },
    {
      "cell_type": "markdown",
      "metadata": {},
      "source": [
        "Let's say we only care about the derivative at the middle node:"
      ]
    },
    {
      "cell_type": "code",
      "execution_count": 33,
      "metadata": {
        "collapsed": false
      },
      "outputs": [
        {
          "data": {
            "text/plain": [
              "array([-4.,  0.,  4.])"
            ]
          },
          "execution_count": 33,
          "metadata": {},
          "output_type": "execute_result"
        }
      ],
      "source": [
        "finite_difference_weights = diff_mat[degree//2]\n",
        "finite_difference_weights"
      ]
    },
    {
      "cell_type": "markdown",
      "metadata": {},
      "source": [
        "* What have we learned?\n",
        "* What formula does this amount to?\n",
        "* How do these weights change if we change $h$?\n",
        "* What formula does this amount to, really?\n",
        "* What happens if we change the degree?\n",
        "* What happens if we shift all nodes?"
      ]
    },
    {
      "cell_type": "code",
      "execution_count": 10,
      "metadata": {
        "collapsed": false
      },
      "outputs": [],
      "source": [
        "# * We could have left the middle point out. :)\n",
        "# * -4*f(x-0.25) + 4*f(x+0.25)\n",
        "# * They scale with 1/h, as you might expect.\n",
        "# * (f(x-h/2) + f(x+h/2))/h\n",
        "# * We get a more complicated (but more accurate) formula (with more source nodes)\n",
        "# * The weights remain the same."
      ]
    },
    {
      "cell_type": "markdown",
      "metadata": {},
      "source": [
        "### Part 2: Using finite difference formulas"
      ]
    },
    {
      "cell_type": "code",
      "execution_count": 55,
      "metadata": {
        "collapsed": false
      },
      "outputs": [],
      "source": [
        "def f(x):\n",
        "    return np.sin(4*x)\n",
        "def df(x):\n",
        "    return 4*np.cos(4*x)"
      ]
    },
    {
      "cell_type": "code",
      "execution_count": 56,
      "metadata": {
        "collapsed": false
      },
      "outputs": [
        {
          "data": {
            "text/plain": [
              "[<matplotlib.lines.Line2D at 0x7f761043a198>]"
            ]
          },
          "execution_count": 56,
          "metadata": {},
          "output_type": "execute_result"
        },
        {
          "data": {
            "image/png": "[encoded data removed]",
            "text/plain": [
              "<matplotlib.figure.Figure at 0x7f7610468cf8>"
            ]
          },
          "metadata": {},
          "output_type": "display_data"
        }
      ],
      "source": [
        "x = np.arange(10) * 0.125\n",
        "pt.plot(x, f(x), \"o-\")"
      ]
    },
    {
      "cell_type": "markdown",
      "metadata": {},
      "source": [
        "Now use the weights to compute the finite difference derivative as `deriv`:"
      ]
    },
    {
      "cell_type": "code",
      "execution_count": 57,
      "metadata": {
        "collapsed": false
      },
      "outputs": [],
      "source": [
        "fdw = finite_difference_weights\n",
        "\n",
        "fx = f(x)\n",
        "deriv = np.zeros(len(x)-2)\n",
        "for i in range(1, 1+len(deriv)):\n",
        "    deriv[i-1] = fx[i-1]*fdw[0] + fx[i]*fdw[1] + fx[i+1]*fdw[2]"
      ]
    },
    {
      "cell_type": "markdown",
      "metadata": {},
      "source": [
        "Now plot the finite difference derivative:"
      ]
    },
    {
      "cell_type": "code",
      "execution_count": 59,
      "metadata": {
        "collapsed": false
      },
      "outputs": [
        {
          "data": {
            "text/plain": [
              "<matplotlib.legend.Legend at 0x7f7610378860>"
            ]
          },
          "execution_count": 59,
          "metadata": {},
          "output_type": "execute_result"
        },
        {
          "data": {
            "image/png": "[encoded data removed]",
            "text/plain": [
              "<matplotlib.figure.Figure at 0x7f76103ecef0>"
            ]
          },
          "metadata": {},
          "output_type": "display_data"
        }
      ],
      "source": [
        "pt.plot(x[1:-1], df(x[1:-1]), label=\"true\")\n",
        "pt.plot(x[1:-1], deriv, label=\"FD\")\n",
        "pt.legend()"
      ]
    }
  ],
  "metadata": {},
  "nbformat": 4,
  "nbformat_minor": 0
}