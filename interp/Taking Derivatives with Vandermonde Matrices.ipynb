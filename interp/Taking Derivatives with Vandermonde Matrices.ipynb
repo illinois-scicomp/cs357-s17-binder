{
  "cells": [
    {
      "cell_type": "markdown",
      "metadata": {},
      "source": [
        "# Taking Derivatives with Vandermonde Matrices"
      ]
    },
    {
      "cell_type": "code",
      "execution_count": 1,
      "metadata": {
        "collapsed": false
      },
      "outputs": [],
      "source": [
        "import numpy as np\n",
        "import numpy.linalg as la\n",
        "import matplotlib.pyplot as pt"
      ]
    },
    {
      "cell_type": "markdown",
      "metadata": {},
      "source": [
        "Here are a few functions:"
      ]
    },
    {
      "cell_type": "code",
      "execution_count": 205,
      "metadata": {
        "collapsed": false
      },
      "outputs": [],
      "source": [
        "if 1:\n",
        "    def f(x):\n",
        "        return np.sin(5*x)\n",
        "    def df(x):\n",
        "        return 5*np.cos(5*x)\n",
        "elif 0:\n",
        "    gamma = 0.15\n",
        "    def f(x):\n",
        "        return np.sin(1/(gamma+x))\n",
        "    def df(x):\n",
        "        return -np.cos(1/(gamma+x))/(gamma+x)**2\n",
        "else:\n",
        "    def f(x):\n",
        "        return np.abs(x-0.5)\n",
        "    def df(x):\n",
        "        # Well...\n",
        "        return -1 + 2*(x<=0.5).astype(np.float)"
      ]
    },
    {
      "cell_type": "code",
      "execution_count": 206,
      "metadata": {
        "collapsed": false
      },
      "outputs": [
        {
          "data": {
            "text/plain": [
              "[<matplotlib.lines.Line2D at 0x7f560bd55e48>]"
            ]
          },
          "execution_count": 206,
          "metadata": {},
          "output_type": "execute_result"
        },
        {
          "data": {
            "image/png": "[encoded data removed]",
            "text/plain": [
              "<matplotlib.figure.Figure at 0x7f560bd950b8>"
            ]
          },
          "metadata": {},
          "output_type": "display_data"
        }
      ],
      "source": [
        "x_01 = np.linspace(0, 1, 1000)\n",
        "pt.plot(x_01, f(x_01))"
      ]
    },
    {
      "cell_type": "code",
      "execution_count": 246,
      "metadata": {
        "collapsed": false
      },
      "outputs": [
        {
          "data": {
            "text/plain": [
              "array([ 0.  ,  0.25,  0.5 ,  0.75,  1.  ])"
            ]
          },
          "execution_count": 246,
          "metadata": {},
          "output_type": "execute_result"
        }
      ],
      "source": [
        "degree = 4\n",
        "h = 1\n",
        "\n",
        "nodes = 0.5 + np.linspace(-h/2, h/2, degree+1)\n",
        "nodes"
      ]
    },
    {
      "cell_type": "markdown",
      "metadata": {},
      "source": [
        "Build the gen. Vandermonde matrix and find the coefficients:"
      ]
    },
    {
      "cell_type": "code",
      "execution_count": 247,
      "metadata": {
        "collapsed": false
      },
      "outputs": [],
      "source": [
        "V = np.array([\n",
        "    nodes**i\n",
        "    for i in range(degree+1)\n",
        "]).T"
      ]
    },
    {
      "cell_type": "code",
      "execution_count": 256,
      "metadata": {
        "collapsed": false
      },
      "outputs": [],
      "source": [
        "coeffs = la.solve(V, f(nodes))"
      ]
    },
    {
      "cell_type": "markdown",
      "metadata": {},
      "source": [
        "Evaluate the interpolant:"
      ]
    },
    {
      "cell_type": "code",
      "execution_count": 249,
      "metadata": {
        "collapsed": false
      },
      "outputs": [],
      "source": [
        "x_0h = 0.5+np.linspace(-h/2, h/2, 1000)"
      ]
    },
    {
      "cell_type": "code",
      "execution_count": 250,
      "metadata": {
        "collapsed": false
      },
      "outputs": [],
      "source": [
        "interp_0h = 0*x_0h\n",
        "for i in range(degree+1):\n",
        "    interp_0h += coeffs[i] * x_0h**i"
      ]
    },
    {
      "cell_type": "code",
      "execution_count": 251,
      "metadata": {
        "collapsed": false
      },
      "outputs": [
        {
          "data": {
            "text/plain": [
              "<matplotlib.legend.Legend at 0x7f560b9caf98>"
            ]
          },
          "execution_count": 251,
          "metadata": {},
          "output_type": "execute_result"
        },
        {
          "data": {
            "image/png": "[encoded data removed]",
            "text/plain": [
              "<matplotlib.figure.Figure at 0x7f560ba11588>"
            ]
          },
          "metadata": {},
          "output_type": "display_data"
        }
      ],
      "source": [
        "pt.plot(x_01, f(x_01), \"--\", color=\"gray\", label=\"$f$\")\n",
        "pt.plot(x_0h, interp_0h, color=\"red\", label=\"Interpolant\")\n",
        "pt.plot(nodes, f(nodes), \"or\")\n",
        "pt.legend(loc=\"best\")"
      ]
    },
    {
      "cell_type": "markdown",
      "metadata": {},
      "source": [
        "Now build the gen. Vandermonde matrix $V'=$`Vprime` of the derivatives:"
      ]
    },
    {
      "cell_type": "code",
      "execution_count": 252,
      "metadata": {
        "collapsed": false
      },
      "outputs": [],
      "source": [
        "def monomial_deriv(i, x):\n",
        "    if i == 0:\n",
        "        return 0*x\n",
        "    else:\n",
        "        return i*nodes**(i-1)\n",
        "\n",
        "Vprime = np.array([\n",
        "    monomial_deriv(i, nodes)\n",
        "    for i in range(degree+1)\n",
        "]).T"
      ]
    },
    {
      "cell_type": "markdown",
      "metadata": {},
      "source": [
        "Compute the value of the derivative at the nodes as `fderiv`:"
      ]
    },
    {
      "cell_type": "code",
      "execution_count": 257,
      "metadata": {
        "collapsed": false
      },
      "outputs": [],
      "source": [
        "fderiv = Vprime.dot(la.inv(V)).dot(f(nodes))"
      ]
    },
    {
      "cell_type": "markdown",
      "metadata": {},
      "source": [
        "And plot vs `df`, the exact derivative:"
      ]
    },
    {
      "cell_type": "code",
      "execution_count": 258,
      "metadata": {
        "collapsed": false
      },
      "outputs": [
        {
          "data": {
            "text/plain": [
              "<matplotlib.legend.Legend at 0x7f560b9168d0>"
            ]
          },
          "execution_count": 258,
          "metadata": {},
          "output_type": "execute_result"
        },
        {
          "data": {
            "image/png": "[encoded data removed]",
            "text/plain": [
              "<matplotlib.figure.Figure at 0x7f560b947470>"
            ]
          },
          "metadata": {},
          "output_type": "display_data"
        }
      ],
      "source": [
        "pt.plot(x_01, df(x_01), \"--\", color=\"gray\", label=\"$f$\")\n",
        "pt.plot(nodes, fderiv, \"or\")\n",
        "pt.legend(loc=\"best\")"
      ]
    },
    {
      "cell_type": "markdown",
      "metadata": {},
      "source": [
        "* Why don't we hit the values of the derivative exactly?\n",
        "* Do an accuracy study."
      ]
    },
    {
      "cell_type": "code",
      "execution_count": 255,
      "metadata": {
        "collapsed": false
      },
      "outputs": [
        {
          "name": "stdout",
          "output_type": "stream",
          "text": [
            "1.85604897639\n"
          ]
        }
      ],
      "source": [
        "print(np.max(np.abs(df(nodes) - fderiv)))"
      ]
    }
  ],
  "metadata": {},
  "nbformat": 4,
  "nbformat_minor": 0
}