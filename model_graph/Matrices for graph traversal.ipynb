{
  "cells": [
    {
      "cell_type": "markdown",
      "metadata": {},
      "source": [
        "# Matrices for Graph Traversal"
      ]
    },
    {
      "cell_type": "code",
      "execution_count": 1,
      "metadata": {
        "collapsed": false
      },
      "outputs": [],
      "source": [
        "import numpy as np"
      ]
    },
    {
      "cell_type": "code",
      "execution_count": 28,
      "metadata": {
        "collapsed": false
      },
      "outputs": [
        {
          "data": {
            "text/plain": [
              "array([[ 0. ,  0. ,  0.8,  0.1,  1. ],\n",
              "       [ 0. ,  0. ,  0. ,  0.8,  0. ],\n",
              "       [ 0. ,  0.5,  0.8,  0.7,  0. ],\n",
              "       [ 0.7,  0. ,  0. ,  0. ,  0. ],\n",
              "       [ 0. ,  0. ,  0.7,  0.6,  0. ]])"
            ]
          },
          "execution_count": 28,
          "metadata": {},
          "output_type": "execute_result"
        }
      ],
      "source": [
        "n = 5\n",
        "\n",
        "# Make a sparsely populated random matrix\n",
        "A = np.zeros((n, n))\n",
        "\n",
        "from random import randrange, uniform\n",
        "for i in range(n*n//2):\n",
        "    i, j = randrange(n), randrange(n)\n",
        "    w = round(uniform(0, 1), 1)\n",
        "    A[i, j] = w\n",
        "    \n",
        "A"
      ]
    },
    {
      "cell_type": "markdown",
      "metadata": {},
      "source": [
        "For a reason that will become clear in a minute, we need the columns of $A$ to be normalized to sum to 1:"
      ]
    },
    {
      "cell_type": "code",
      "execution_count": 29,
      "metadata": {
        "collapsed": false
      },
      "outputs": [
        {
          "name": "stdout",
          "output_type": "stream",
          "text": [
            "[[ 0.          0.          0.34782609  0.04545455  1.        ]\n",
            " [ 0.          0.          0.          0.36363636  0.        ]\n",
            " [ 0.          1.          0.34782609  0.31818182  0.        ]\n",
            " [ 1.          0.          0.          0.          0.        ]\n",
            " [ 0.          0.          0.30434783  0.27272727  0.        ]]\n",
            "[ 1.  1.  1.  1.  1.]\n"
          ]
        }
      ],
      "source": [
        "A_cols = np.sum(A, axis=0)\n",
        "A_cols[A_cols == 0] = 1\n",
        "A = A/A_cols\n",
        "\n",
        "print(A)\n",
        "print(np.sum(A, axis=0))"
      ]
    },
    {
      "cell_type": "markdown",
      "metadata": {},
      "source": [
        "This short piece of code exports the matrix in a format that's readable to the [dot](http://graphviz.org) graph drawing tool."
      ]
    },
    {
      "cell_type": "code",
      "execution_count": 30,
      "metadata": {
        "collapsed": false
      },
      "outputs": [],
      "source": [
        "def to_dot(A, vec=None):\n",
        "    lines = ['digraph mygraph { size=\"4,4\";']\n",
        "    for i in range(n):\n",
        "        for j in range(n):\n",
        "            if A[i, j]:\n",
        "                lines.append(\"%d -> %d [label=\\\"%0.1f\\\"];\" % (j, i, A[i, j]))\n",
        "    if vec is not None:\n",
        "        for i, vec_i in enumerate(vec):\n",
        "            assert 0<=vec_i<=1\n",
        "            lines.append(\n",
        "                '%d [style=\"filled\", fillcolor=\"#ff%02xff\"];'\n",
        "                % (i, int(255*(1-vec_i))))\n",
        "    lines.append(\"}\")\n",
        "    return \"\\n\".join(lines)"
      ]
    },
    {
      "cell_type": "markdown",
      "metadata": {},
      "source": [
        "See?"
      ]
    },
    {
      "cell_type": "code",
      "execution_count": 31,
      "metadata": {
        "collapsed": false
      },
      "outputs": [
        {
          "name": "stdout",
          "output_type": "stream",
          "text": [
            "digraph mygraph { size=\"4,4\";\n",
            "2 -> 0 [label=\"0.3\"];\n",
            "3 -> 0 [label=\"0.0\"];\n",
            "4 -> 0 [label=\"1.0\"];\n",
            "3 -> 1 [label=\"0.4\"];\n",
            "1 -> 2 [label=\"1.0\"];\n",
            "2 -> 2 [label=\"0.3\"];\n",
            "3 -> 2 [label=\"0.3\"];\n",
            "0 -> 3 [label=\"1.0\"];\n",
            "2 -> 4 [label=\"0.3\"];\n",
            "3 -> 4 [label=\"0.3\"];\n",
            "}\n"
          ]
        }
      ],
      "source": [
        "print(to_dot(A))"
      ]
    },
    {
      "cell_type": "code",
      "execution_count": 32,
      "metadata": {
        "collapsed": false
      },
      "outputs": [
        {
          "name": "stdout",
          "output_type": "stream",
          "text": [
            "The gvmagic extension is already loaded. To reload it, use:\n",
            "  %reload_ext gvmagic\n"
          ]
        }
      ],
      "source": [
        "%load_ext gvmagic"
      ]
    },
    {
      "cell_type": "code",
      "execution_count": 33,
      "metadata": {
        "collapsed": false
      },
      "outputs": [
        {
          "data": {
            "image/svg+xml": [
              "<?xml version=\"1.0\" encoding=\"UTF-8\" standalone=\"no\"?>\n",
              "<!DOCTYPE svg PUBLIC \"-//W3C//DTD SVG 1.1//EN\"\n",
              " \"http://www.w3.org/Graphics/SVG/1.1/DTD/svg11.dtd\">\n",
              "<!-- Generated by graphviz version 2.38.0 (20140413.2041)\n",
              " -->\n",
              "<!-- Title: mygraph Pages: 1 -->\n",
              "<svg width=\"175pt\" height=\"288pt\"\n",
              " viewBox=\"0.00 0.00 174.69 288.00\" xmlns=\"http://www.w3.org/2000/svg\" xmlns:xlink=\"http://www.w3.org/1999/xlink\">\n",
              "<g id=\"graph0\" class=\"graph\" transform=\"scale(0.944262 0.944262) rotate(0) translate(4 301)\">\n",
              "<title>mygraph</title>\n",
              "<polygon fill=\"white\" stroke=\"none\" points=\"-4,4 -4,-301 181,-301 181,4 -4,4\"/>\n",
              "<!-- 2 -->\n",
              "<g id=\"node1\" class=\"node\"><title>2</title>\n",
              "<ellipse fill=\"none\" stroke=\"black\" cx=\"108\" cy=\"-279\" rx=\"27\" ry=\"18\"/>\n",
              "<text text-anchor=\"middle\" x=\"108\" y=\"-275.3\" font-family=\"Times,serif\" font-size=\"14.00\">2</text>\n",
              "</g>\n",
              "<!-- 2&#45;&gt;2 -->\n",
              "<g id=\"edge6\" class=\"edge\"><title>2&#45;&gt;2</title>\n",
              "<path fill=\"none\" stroke=\"black\" d=\"M132.532,-286.752C143.508,-287.49 153,-284.906 153,-279 153,-275.032 148.715,-272.563 142.574,-271.594\"/>\n",
              "<polygon fill=\"black\" stroke=\"black\" points=\"142.647,-268.095 132.532,-271.248 142.406,-275.091 142.647,-268.095\"/>\n",
              "<text text-anchor=\"middle\" x=\"162\" y=\"-275.3\" font-family=\"Times,serif\" font-size=\"14.00\">0.3</text>\n",
              "</g>\n",
              "<!-- 0 -->\n",
              "<g id=\"node2\" class=\"node\"><title>0</title>\n",
              "<ellipse fill=\"none\" stroke=\"black\" cx=\"65\" cy=\"-192\" rx=\"27\" ry=\"18\"/>\n",
              "<text text-anchor=\"middle\" x=\"65\" y=\"-188.3\" font-family=\"Times,serif\" font-size=\"14.00\">0</text>\n",
              "</g>\n",
              "<!-- 2&#45;&gt;0 -->\n",
              "<g id=\"edge1\" class=\"edge\"><title>2&#45;&gt;0</title>\n",
              "<path fill=\"none\" stroke=\"black\" d=\"M99.7092,-261.611C93.5225,-249.382 84.9535,-232.443 77.8777,-218.456\"/>\n",
              "<polygon fill=\"black\" stroke=\"black\" points=\"80.9026,-216.682 73.2654,-209.339 74.6564,-219.842 80.9026,-216.682\"/>\n",
              "<text text-anchor=\"middle\" x=\"98\" y=\"-231.8\" font-family=\"Times,serif\" font-size=\"14.00\">0.3</text>\n",
              "</g>\n",
              "<!-- 4 -->\n",
              "<g id=\"node4\" class=\"node\"><title>4</title>\n",
              "<ellipse fill=\"none\" stroke=\"black\" cx=\"27\" cy=\"-18\" rx=\"27\" ry=\"18\"/>\n",
              "<text text-anchor=\"middle\" x=\"27\" y=\"-14.3\" font-family=\"Times,serif\" font-size=\"14.00\">4</text>\n",
              "</g>\n",
              "<!-- 2&#45;&gt;4 -->\n",
              "<g id=\"edge9\" class=\"edge\"><title>2&#45;&gt;4</title>\n",
              "<path fill=\"none\" stroke=\"black\" d=\"M87.8948,-266.906C69.1278,-255.358 42.1071,-235.411 29,-210 1.69574,-157.064 11.7211,-84.3874 20.1349,-45.7289\"/>\n",
              "<polygon fill=\"black\" stroke=\"black\" points=\"23.5944,-46.303 22.433,-35.772 16.7737,-44.7287 23.5944,-46.303\"/>\n",
              "<text text-anchor=\"middle\" x=\"22\" y=\"-144.8\" font-family=\"Times,serif\" font-size=\"14.00\">0.3</text>\n",
              "</g>\n",
              "<!-- 3 -->\n",
              "<g id=\"node3\" class=\"node\"><title>3</title>\n",
              "<ellipse fill=\"none\" stroke=\"black\" cx=\"101\" cy=\"-105\" rx=\"27\" ry=\"18\"/>\n",
              "<text text-anchor=\"middle\" x=\"101\" y=\"-101.3\" font-family=\"Times,serif\" font-size=\"14.00\">3</text>\n",
              "</g>\n",
              "<!-- 0&#45;&gt;3 -->\n",
              "<g id=\"edge8\" class=\"edge\"><title>0&#45;&gt;3</title>\n",
              "<path fill=\"none\" stroke=\"black\" d=\"M58.1673,-174.526C55.0484,-164.416 53.0321,-151.449 58,-141 61.2393,-134.187 66.5255,-128.265 72.3016,-123.327\"/>\n",
              "<polygon fill=\"black\" stroke=\"black\" points=\"74.498,-126.054 80.3357,-117.212 70.2586,-120.483 74.498,-126.054\"/>\n",
              "<text text-anchor=\"middle\" x=\"67\" y=\"-144.8\" font-family=\"Times,serif\" font-size=\"14.00\">1.0</text>\n",
              "</g>\n",
              "<!-- 3&#45;&gt;2 -->\n",
              "<g id=\"edge7\" class=\"edge\"><title>3&#45;&gt;2</title>\n",
              "<path fill=\"none\" stroke=\"black\" d=\"M104.355,-123.03C105.36,-128.723 106.363,-135.116 107,-141 109.649,-165.46 112.427,-209.631 111,-243 110.891,-245.559 110.736,-248.221 110.555,-250.882\"/>\n",
              "<polygon fill=\"black\" stroke=\"black\" points=\"107.06,-250.683 109.758,-260.929 114.038,-251.237 107.06,-250.683\"/>\n",
              "<text text-anchor=\"middle\" x=\"120\" y=\"-188.3\" font-family=\"Times,serif\" font-size=\"14.00\">0.3</text>\n",
              "</g>\n",
              "<!-- 3&#45;&gt;0 -->\n",
              "<g id=\"edge2\" class=\"edge\"><title>3&#45;&gt;0</title>\n",
              "<path fill=\"none\" stroke=\"black\" d=\"M94.0248,-122.469C88.9472,-134.458 81.9659,-150.942 76.1226,-164.738\"/>\n",
              "<polygon fill=\"black\" stroke=\"black\" points=\"72.7896,-163.634 72.1124,-174.207 79.2353,-166.364 72.7896,-163.634\"/>\n",
              "<text text-anchor=\"middle\" x=\"94\" y=\"-144.8\" font-family=\"Times,serif\" font-size=\"14.00\">0.0</text>\n",
              "</g>\n",
              "<!-- 3&#45;&gt;4 -->\n",
              "<g id=\"edge10\" class=\"edge\"><title>3&#45;&gt;4</title>\n",
              "<path fill=\"none\" stroke=\"black\" d=\"M87.7703,-88.8037C76.4055,-75.7495 59.852,-56.7354 46.8906,-41.8473\"/>\n",
              "<polygon fill=\"black\" stroke=\"black\" points=\"49.3212,-39.3088 40.1152,-34.0647 44.0416,-43.9052 49.3212,-39.3088\"/>\n",
              "<text text-anchor=\"middle\" x=\"77\" y=\"-57.8\" font-family=\"Times,serif\" font-size=\"14.00\">0.3</text>\n",
              "</g>\n",
              "<!-- 1 -->\n",
              "<g id=\"node5\" class=\"node\"><title>1</title>\n",
              "<ellipse fill=\"none\" stroke=\"black\" cx=\"150\" cy=\"-18\" rx=\"27\" ry=\"18\"/>\n",
              "<text text-anchor=\"middle\" x=\"150\" y=\"-14.3\" font-family=\"Times,serif\" font-size=\"14.00\">1</text>\n",
              "</g>\n",
              "<!-- 3&#45;&gt;1 -->\n",
              "<g id=\"edge4\" class=\"edge\"><title>3&#45;&gt;1</title>\n",
              "<path fill=\"none\" stroke=\"black\" d=\"M110.217,-88.0122C117.357,-75.625 127.382,-58.235 135.582,-44.0109\"/>\n",
              "<polygon fill=\"black\" stroke=\"black\" points=\"138.696,-45.6167 140.658,-35.2052 132.632,-42.1207 138.696,-45.6167\"/>\n",
              "<text text-anchor=\"middle\" x=\"137\" y=\"-57.8\" font-family=\"Times,serif\" font-size=\"14.00\">0.4</text>\n",
              "</g>\n",
              "<!-- 4&#45;&gt;0 -->\n",
              "<g id=\"edge3\" class=\"edge\"><title>4&#45;&gt;0</title>\n",
              "<path fill=\"none\" stroke=\"black\" d=\"M28.5544,-36.1668C31.2254,-62.4076 37.6331,-113.884 50,-156 50.8841,-159.011 51.9561,-162.109 53.1159,-165.158\"/>\n",
              "<polygon fill=\"black\" stroke=\"black\" points=\"49.9476,-166.655 56.9975,-174.564 56.4183,-163.985 49.9476,-166.655\"/>\n",
              "<text text-anchor=\"middle\" x=\"50\" y=\"-101.3\" font-family=\"Times,serif\" font-size=\"14.00\">1.0</text>\n",
              "</g>\n",
              "<!-- 1&#45;&gt;2 -->\n",
              "<g id=\"edge5\" class=\"edge\"><title>1&#45;&gt;2</title>\n",
              "<path fill=\"none\" stroke=\"black\" d=\"M150.507,-36.1396C150.666,-45.7992 150.656,-58.0822 150,-69 146.215,-132.007 144.233,-147.887 133,-210 130.314,-224.851 130.104,-228.798 125,-243 123.858,-246.179 122.513,-249.451 121.089,-252.659\"/>\n",
              "<polygon fill=\"black\" stroke=\"black\" points=\"117.815,-251.395 116.7,-261.931 124.141,-254.39 117.815,-251.395\"/>\n",
              "<text text-anchor=\"middle\" x=\"153\" y=\"-144.8\" font-family=\"Times,serif\" font-size=\"14.00\">1.0</text>\n",
              "</g>\n",
              "</g>\n",
              "</svg>\n"
            ]
          },
          "metadata": {},
          "output_type": "display_data"
        }
      ],
      "source": [
        "%dotstr to_dot(A)"
      ]
    },
    {
      "cell_type": "markdown",
      "metadata": {},
      "source": [
        "Another thing we can do is plot distributions on the graph:"
      ]
    },
    {
      "cell_type": "code",
      "execution_count": 41,
      "metadata": {
        "collapsed": false
      },
      "outputs": [
        {
          "data": {
            "image/svg+xml": [
              "<?xml version=\"1.0\" encoding=\"UTF-8\" standalone=\"no\"?>\n",
              "<!DOCTYPE svg PUBLIC \"-//W3C//DTD SVG 1.1//EN\"\n",
              " \"http://www.w3.org/Graphics/SVG/1.1/DTD/svg11.dtd\">\n",
              "<!-- Generated by graphviz version 2.38.0 (20140413.2041)\n",
              " -->\n",
              "<!-- Title: mygraph Pages: 1 -->\n",
              "<svg width=\"175pt\" height=\"288pt\"\n",
              " viewBox=\"0.00 0.00 174.69 288.00\" xmlns=\"http://www.w3.org/2000/svg\" xmlns:xlink=\"http://www.w3.org/1999/xlink\">\n",
              "<g id=\"graph0\" class=\"graph\" transform=\"scale(0.944262 0.944262) rotate(0) translate(4 301)\">\n",
              "<title>mygraph</title>\n",
              "<polygon fill=\"white\" stroke=\"none\" points=\"-4,4 -4,-301 181,-301 181,4 -4,4\"/>\n",
              "<!-- 2 -->\n",
              "<g id=\"node1\" class=\"node\"><title>2</title>\n",
              "<ellipse fill=\"#ffffff\" stroke=\"black\" cx=\"108\" cy=\"-279\" rx=\"27\" ry=\"18\"/>\n",
              "<text text-anchor=\"middle\" x=\"108\" y=\"-275.3\" font-family=\"Times,serif\" font-size=\"14.00\">2</text>\n",
              "</g>\n",
              "<!-- 2&#45;&gt;2 -->\n",
              "<g id=\"edge6\" class=\"edge\"><title>2&#45;&gt;2</title>\n",
              "<path fill=\"none\" stroke=\"black\" d=\"M132.532,-286.752C143.508,-287.49 153,-284.906 153,-279 153,-275.032 148.715,-272.563 142.574,-271.594\"/>\n",
              "<polygon fill=\"black\" stroke=\"black\" points=\"142.647,-268.095 132.532,-271.248 142.406,-275.091 142.647,-268.095\"/>\n",
              "<text text-anchor=\"middle\" x=\"162\" y=\"-275.3\" font-family=\"Times,serif\" font-size=\"14.00\">0.3</text>\n",
              "</g>\n",
              "<!-- 0 -->\n",
              "<g id=\"node2\" class=\"node\"><title>0</title>\n",
              "<ellipse fill=\"#ff00ff\" stroke=\"black\" cx=\"65\" cy=\"-192\" rx=\"27\" ry=\"18\"/>\n",
              "<text text-anchor=\"middle\" x=\"65\" y=\"-188.3\" font-family=\"Times,serif\" font-size=\"14.00\">0</text>\n",
              "</g>\n",
              "<!-- 2&#45;&gt;0 -->\n",
              "<g id=\"edge1\" class=\"edge\"><title>2&#45;&gt;0</title>\n",
              "<path fill=\"none\" stroke=\"black\" d=\"M99.7092,-261.611C93.5225,-249.382 84.9535,-232.443 77.8777,-218.456\"/>\n",
              "<polygon fill=\"black\" stroke=\"black\" points=\"80.9026,-216.682 73.2654,-209.339 74.6564,-219.842 80.9026,-216.682\"/>\n",
              "<text text-anchor=\"middle\" x=\"98\" y=\"-231.8\" font-family=\"Times,serif\" font-size=\"14.00\">0.3</text>\n",
              "</g>\n",
              "<!-- 4 -->\n",
              "<g id=\"node4\" class=\"node\"><title>4</title>\n",
              "<ellipse fill=\"#ffffff\" stroke=\"black\" cx=\"27\" cy=\"-18\" rx=\"27\" ry=\"18\"/>\n",
              "<text text-anchor=\"middle\" x=\"27\" y=\"-14.3\" font-family=\"Times,serif\" font-size=\"14.00\">4</text>\n",
              "</g>\n",
              "<!-- 2&#45;&gt;4 -->\n",
              "<g id=\"edge9\" class=\"edge\"><title>2&#45;&gt;4</title>\n",
              "<path fill=\"none\" stroke=\"black\" d=\"M87.8948,-266.906C69.1278,-255.358 42.1071,-235.411 29,-210 1.69574,-157.064 11.7211,-84.3874 20.1349,-45.7289\"/>\n",
              "<polygon fill=\"black\" stroke=\"black\" points=\"23.5944,-46.303 22.433,-35.772 16.7737,-44.7287 23.5944,-46.303\"/>\n",
              "<text text-anchor=\"middle\" x=\"22\" y=\"-144.8\" font-family=\"Times,serif\" font-size=\"14.00\">0.3</text>\n",
              "</g>\n",
              "<!-- 3 -->\n",
              "<g id=\"node3\" class=\"node\"><title>3</title>\n",
              "<ellipse fill=\"#ffffff\" stroke=\"black\" cx=\"101\" cy=\"-105\" rx=\"27\" ry=\"18\"/>\n",
              "<text text-anchor=\"middle\" x=\"101\" y=\"-101.3\" font-family=\"Times,serif\" font-size=\"14.00\">3</text>\n",
              "</g>\n",
              "<!-- 0&#45;&gt;3 -->\n",
              "<g id=\"edge8\" class=\"edge\"><title>0&#45;&gt;3</title>\n",
              "<path fill=\"none\" stroke=\"black\" d=\"M58.1673,-174.526C55.0484,-164.416 53.0321,-151.449 58,-141 61.2393,-134.187 66.5255,-128.265 72.3016,-123.327\"/>\n",
              "<polygon fill=\"black\" stroke=\"black\" points=\"74.498,-126.054 80.3357,-117.212 70.2586,-120.483 74.498,-126.054\"/>\n",
              "<text text-anchor=\"middle\" x=\"67\" y=\"-144.8\" font-family=\"Times,serif\" font-size=\"14.00\">1.0</text>\n",
              "</g>\n",
              "<!-- 3&#45;&gt;2 -->\n",
              "<g id=\"edge7\" class=\"edge\"><title>3&#45;&gt;2</title>\n",
              "<path fill=\"none\" stroke=\"black\" d=\"M104.355,-123.03C105.36,-128.723 106.363,-135.116 107,-141 109.649,-165.46 112.427,-209.631 111,-243 110.891,-245.559 110.736,-248.221 110.555,-250.882\"/>\n",
              "<polygon fill=\"black\" stroke=\"black\" points=\"107.06,-250.683 109.758,-260.929 114.038,-251.237 107.06,-250.683\"/>\n",
              "<text text-anchor=\"middle\" x=\"120\" y=\"-188.3\" font-family=\"Times,serif\" font-size=\"14.00\">0.3</text>\n",
              "</g>\n",
              "<!-- 3&#45;&gt;0 -->\n",
              "<g id=\"edge2\" class=\"edge\"><title>3&#45;&gt;0</title>\n",
              "<path fill=\"none\" stroke=\"black\" d=\"M94.0248,-122.469C88.9472,-134.458 81.9659,-150.942 76.1226,-164.738\"/>\n",
              "<polygon fill=\"black\" stroke=\"black\" points=\"72.7896,-163.634 72.1124,-174.207 79.2353,-166.364 72.7896,-163.634\"/>\n",
              "<text text-anchor=\"middle\" x=\"94\" y=\"-144.8\" font-family=\"Times,serif\" font-size=\"14.00\">0.0</text>\n",
              "</g>\n",
              "<!-- 3&#45;&gt;4 -->\n",
              "<g id=\"edge10\" class=\"edge\"><title>3&#45;&gt;4</title>\n",
              "<path fill=\"none\" stroke=\"black\" d=\"M87.7703,-88.8037C76.4055,-75.7495 59.852,-56.7354 46.8906,-41.8473\"/>\n",
              "<polygon fill=\"black\" stroke=\"black\" points=\"49.3212,-39.3088 40.1152,-34.0647 44.0416,-43.9052 49.3212,-39.3088\"/>\n",
              "<text text-anchor=\"middle\" x=\"77\" y=\"-57.8\" font-family=\"Times,serif\" font-size=\"14.00\">0.3</text>\n",
              "</g>\n",
              "<!-- 1 -->\n",
              "<g id=\"node5\" class=\"node\"><title>1</title>\n",
              "<ellipse fill=\"#ffffff\" stroke=\"black\" cx=\"150\" cy=\"-18\" rx=\"27\" ry=\"18\"/>\n",
              "<text text-anchor=\"middle\" x=\"150\" y=\"-14.3\" font-family=\"Times,serif\" font-size=\"14.00\">1</text>\n",
              "</g>\n",
              "<!-- 3&#45;&gt;1 -->\n",
              "<g id=\"edge4\" class=\"edge\"><title>3&#45;&gt;1</title>\n",
              "<path fill=\"none\" stroke=\"black\" d=\"M110.217,-88.0122C117.357,-75.625 127.382,-58.235 135.582,-44.0109\"/>\n",
              "<polygon fill=\"black\" stroke=\"black\" points=\"138.696,-45.6167 140.658,-35.2052 132.632,-42.1207 138.696,-45.6167\"/>\n",
              "<text text-anchor=\"middle\" x=\"137\" y=\"-57.8\" font-family=\"Times,serif\" font-size=\"14.00\">0.4</text>\n",
              "</g>\n",
              "<!-- 4&#45;&gt;0 -->\n",
              "<g id=\"edge3\" class=\"edge\"><title>4&#45;&gt;0</title>\n",
              "<path fill=\"none\" stroke=\"black\" d=\"M28.5544,-36.1668C31.2254,-62.4076 37.6331,-113.884 50,-156 50.8841,-159.011 51.9561,-162.109 53.1159,-165.158\"/>\n",
              "<polygon fill=\"black\" stroke=\"black\" points=\"49.9476,-166.655 56.9975,-174.564 56.4183,-163.985 49.9476,-166.655\"/>\n",
              "<text text-anchor=\"middle\" x=\"50\" y=\"-101.3\" font-family=\"Times,serif\" font-size=\"14.00\">1.0</text>\n",
              "</g>\n",
              "<!-- 1&#45;&gt;2 -->\n",
              "<g id=\"edge5\" class=\"edge\"><title>1&#45;&gt;2</title>\n",
              "<path fill=\"none\" stroke=\"black\" d=\"M150.507,-36.1396C150.666,-45.7992 150.656,-58.0822 150,-69 146.215,-132.007 144.233,-147.887 133,-210 130.314,-224.851 130.104,-228.798 125,-243 123.858,-246.179 122.513,-249.451 121.089,-252.659\"/>\n",
              "<polygon fill=\"black\" stroke=\"black\" points=\"117.815,-251.395 116.7,-261.931 124.141,-254.39 117.815,-251.395\"/>\n",
              "<text text-anchor=\"middle\" x=\"153\" y=\"-144.8\" font-family=\"Times,serif\" font-size=\"14.00\">1.0</text>\n",
              "</g>\n",
              "</g>\n",
              "</svg>\n"
            ]
          },
          "metadata": {},
          "output_type": "display_data"
        }
      ],
      "source": [
        "d = np.zeros((n,))\n",
        "d[0] = 1\n",
        "%dotstr to_dot(A, d)"
      ]
    },
    {
      "cell_type": "code",
      "execution_count": 42,
      "metadata": {
        "collapsed": false
      },
      "outputs": [
        {
          "data": {
            "text/plain": [
              "array([ 1.,  0.,  0.,  0.,  0.])"
            ]
          },
          "execution_count": 42,
          "metadata": {},
          "output_type": "execute_result"
        }
      ],
      "source": [
        "d"
      ]
    },
    {
      "cell_type": "markdown",
      "metadata": {},
      "source": [
        "Now, how would we model the spread of this distribution across the graph?"
      ]
    },
    {
      "cell_type": "code",
      "execution_count": 45,
      "metadata": {
        "collapsed": false
      },
      "outputs": [
        {
          "name": "stdout",
          "output_type": "stream",
          "text": [
            "[ 0.38339921  0.          0.4743083   0.04545455  0.09683794]\n"
          ]
        },
        {
          "data": {
            "image/svg+xml": [
              "<?xml version=\"1.0\" encoding=\"UTF-8\" standalone=\"no\"?>\n",
              "<!DOCTYPE svg PUBLIC \"-//W3C//DTD SVG 1.1//EN\"\n",
              " \"http://www.w3.org/Graphics/SVG/1.1/DTD/svg11.dtd\">\n",
              "<!-- Generated by graphviz version 2.38.0 (20140413.2041)\n",
              " -->\n",
              "<!-- Title: mygraph Pages: 1 -->\n",
              "<svg width=\"175pt\" height=\"288pt\"\n",
              " viewBox=\"0.00 0.00 174.69 288.00\" xmlns=\"http://www.w3.org/2000/svg\" xmlns:xlink=\"http://www.w3.org/1999/xlink\">\n",
              "<g id=\"graph0\" class=\"graph\" transform=\"scale(0.944262 0.944262) rotate(0) translate(4 301)\">\n",
              "<title>mygraph</title>\n",
              "<polygon fill=\"white\" stroke=\"none\" points=\"-4,4 -4,-301 181,-301 181,4 -4,4\"/>\n",
              "<!-- 2 -->\n",
              "<g id=\"node1\" class=\"node\"><title>2</title>\n",
              "<ellipse fill=\"#ff86ff\" stroke=\"black\" cx=\"108\" cy=\"-279\" rx=\"27\" ry=\"18\"/>\n",
              "<text text-anchor=\"middle\" x=\"108\" y=\"-275.3\" font-family=\"Times,serif\" font-size=\"14.00\">2</text>\n",
              "</g>\n",
              "<!-- 2&#45;&gt;2 -->\n",
              "<g id=\"edge6\" class=\"edge\"><title>2&#45;&gt;2</title>\n",
              "<path fill=\"none\" stroke=\"black\" d=\"M132.532,-286.752C143.508,-287.49 153,-284.906 153,-279 153,-275.032 148.715,-272.563 142.574,-271.594\"/>\n",
              "<polygon fill=\"black\" stroke=\"black\" points=\"142.647,-268.095 132.532,-271.248 142.406,-275.091 142.647,-268.095\"/>\n",
              "<text text-anchor=\"middle\" x=\"162\" y=\"-275.3\" font-family=\"Times,serif\" font-size=\"14.00\">0.3</text>\n",
              "</g>\n",
              "<!-- 0 -->\n",
              "<g id=\"node2\" class=\"node\"><title>0</title>\n",
              "<ellipse fill=\"#ff9dff\" stroke=\"black\" cx=\"65\" cy=\"-192\" rx=\"27\" ry=\"18\"/>\n",
              "<text text-anchor=\"middle\" x=\"65\" y=\"-188.3\" font-family=\"Times,serif\" font-size=\"14.00\">0</text>\n",
              "</g>\n",
              "<!-- 2&#45;&gt;0 -->\n",
              "<g id=\"edge1\" class=\"edge\"><title>2&#45;&gt;0</title>\n",
              "<path fill=\"none\" stroke=\"black\" d=\"M99.7092,-261.611C93.5225,-249.382 84.9535,-232.443 77.8777,-218.456\"/>\n",
              "<polygon fill=\"black\" stroke=\"black\" points=\"80.9026,-216.682 73.2654,-209.339 74.6564,-219.842 80.9026,-216.682\"/>\n",
              "<text text-anchor=\"middle\" x=\"98\" y=\"-231.8\" font-family=\"Times,serif\" font-size=\"14.00\">0.3</text>\n",
              "</g>\n",
              "<!-- 4 -->\n",
              "<g id=\"node4\" class=\"node\"><title>4</title>\n",
              "<ellipse fill=\"#ffe6ff\" stroke=\"black\" cx=\"27\" cy=\"-18\" rx=\"27\" ry=\"18\"/>\n",
              "<text text-anchor=\"middle\" x=\"27\" y=\"-14.3\" font-family=\"Times,serif\" font-size=\"14.00\">4</text>\n",
              "</g>\n",
              "<!-- 2&#45;&gt;4 -->\n",
              "<g id=\"edge9\" class=\"edge\"><title>2&#45;&gt;4</title>\n",
              "<path fill=\"none\" stroke=\"black\" d=\"M87.8948,-266.906C69.1278,-255.358 42.1071,-235.411 29,-210 1.69574,-157.064 11.7211,-84.3874 20.1349,-45.7289\"/>\n",
              "<polygon fill=\"black\" stroke=\"black\" points=\"23.5944,-46.303 22.433,-35.772 16.7737,-44.7287 23.5944,-46.303\"/>\n",
              "<text text-anchor=\"middle\" x=\"22\" y=\"-144.8\" font-family=\"Times,serif\" font-size=\"14.00\">0.3</text>\n",
              "</g>\n",
              "<!-- 3 -->\n",
              "<g id=\"node3\" class=\"node\"><title>3</title>\n",
              "<ellipse fill=\"#fff3ff\" stroke=\"black\" cx=\"101\" cy=\"-105\" rx=\"27\" ry=\"18\"/>\n",
              "<text text-anchor=\"middle\" x=\"101\" y=\"-101.3\" font-family=\"Times,serif\" font-size=\"14.00\">3</text>\n",
              "</g>\n",
              "<!-- 0&#45;&gt;3 -->\n",
              "<g id=\"edge8\" class=\"edge\"><title>0&#45;&gt;3</title>\n",
              "<path fill=\"none\" stroke=\"black\" d=\"M58.1673,-174.526C55.0484,-164.416 53.0321,-151.449 58,-141 61.2393,-134.187 66.5255,-128.265 72.3016,-123.327\"/>\n",
              "<polygon fill=\"black\" stroke=\"black\" points=\"74.498,-126.054 80.3357,-117.212 70.2586,-120.483 74.498,-126.054\"/>\n",
              "<text text-anchor=\"middle\" x=\"67\" y=\"-144.8\" font-family=\"Times,serif\" font-size=\"14.00\">1.0</text>\n",
              "</g>\n",
              "<!-- 3&#45;&gt;2 -->\n",
              "<g id=\"edge7\" class=\"edge\"><title>3&#45;&gt;2</title>\n",
              "<path fill=\"none\" stroke=\"black\" d=\"M104.355,-123.03C105.36,-128.723 106.363,-135.116 107,-141 109.649,-165.46 112.427,-209.631 111,-243 110.891,-245.559 110.736,-248.221 110.555,-250.882\"/>\n",
              "<polygon fill=\"black\" stroke=\"black\" points=\"107.06,-250.683 109.758,-260.929 114.038,-251.237 107.06,-250.683\"/>\n",
              "<text text-anchor=\"middle\" x=\"120\" y=\"-188.3\" font-family=\"Times,serif\" font-size=\"14.00\">0.3</text>\n",
              "</g>\n",
              "<!-- 3&#45;&gt;0 -->\n",
              "<g id=\"edge2\" class=\"edge\"><title>3&#45;&gt;0</title>\n",
              "<path fill=\"none\" stroke=\"black\" d=\"M94.0248,-122.469C88.9472,-134.458 81.9659,-150.942 76.1226,-164.738\"/>\n",
              "<polygon fill=\"black\" stroke=\"black\" points=\"72.7896,-163.634 72.1124,-174.207 79.2353,-166.364 72.7896,-163.634\"/>\n",
              "<text text-anchor=\"middle\" x=\"94\" y=\"-144.8\" font-family=\"Times,serif\" font-size=\"14.00\">0.0</text>\n",
              "</g>\n",
              "<!-- 3&#45;&gt;4 -->\n",
              "<g id=\"edge10\" class=\"edge\"><title>3&#45;&gt;4</title>\n",
              "<path fill=\"none\" stroke=\"black\" d=\"M87.7703,-88.8037C76.4055,-75.7495 59.852,-56.7354 46.8906,-41.8473\"/>\n",
              "<polygon fill=\"black\" stroke=\"black\" points=\"49.3212,-39.3088 40.1152,-34.0647 44.0416,-43.9052 49.3212,-39.3088\"/>\n",
              "<text text-anchor=\"middle\" x=\"77\" y=\"-57.8\" font-family=\"Times,serif\" font-size=\"14.00\">0.3</text>\n",
              "</g>\n",
              "<!-- 1 -->\n",
              "<g id=\"node5\" class=\"node\"><title>1</title>\n",
              "<ellipse fill=\"#ffffff\" stroke=\"black\" cx=\"150\" cy=\"-18\" rx=\"27\" ry=\"18\"/>\n",
              "<text text-anchor=\"middle\" x=\"150\" y=\"-14.3\" font-family=\"Times,serif\" font-size=\"14.00\">1</text>\n",
              "</g>\n",
              "<!-- 3&#45;&gt;1 -->\n",
              "<g id=\"edge4\" class=\"edge\"><title>3&#45;&gt;1</title>\n",
              "<path fill=\"none\" stroke=\"black\" d=\"M110.217,-88.0122C117.357,-75.625 127.382,-58.235 135.582,-44.0109\"/>\n",
              "<polygon fill=\"black\" stroke=\"black\" points=\"138.696,-45.6167 140.658,-35.2052 132.632,-42.1207 138.696,-45.6167\"/>\n",
              "<text text-anchor=\"middle\" x=\"137\" y=\"-57.8\" font-family=\"Times,serif\" font-size=\"14.00\">0.4</text>\n",
              "</g>\n",
              "<!-- 4&#45;&gt;0 -->\n",
              "<g id=\"edge3\" class=\"edge\"><title>4&#45;&gt;0</title>\n",
              "<path fill=\"none\" stroke=\"black\" d=\"M28.5544,-36.1668C31.2254,-62.4076 37.6331,-113.884 50,-156 50.8841,-159.011 51.9561,-162.109 53.1159,-165.158\"/>\n",
              "<polygon fill=\"black\" stroke=\"black\" points=\"49.9476,-166.655 56.9975,-174.564 56.4183,-163.985 49.9476,-166.655\"/>\n",
              "<text text-anchor=\"middle\" x=\"50\" y=\"-101.3\" font-family=\"Times,serif\" font-size=\"14.00\">1.0</text>\n",
              "</g>\n",
              "<!-- 1&#45;&gt;2 -->\n",
              "<g id=\"edge5\" class=\"edge\"><title>1&#45;&gt;2</title>\n",
              "<path fill=\"none\" stroke=\"black\" d=\"M150.507,-36.1396C150.666,-45.7992 150.656,-58.0822 150,-69 146.215,-132.007 144.233,-147.887 133,-210 130.314,-224.851 130.104,-228.798 125,-243 123.858,-246.179 122.513,-249.451 121.089,-252.659\"/>\n",
              "<polygon fill=\"black\" stroke=\"black\" points=\"117.815,-251.395 116.7,-261.931 124.141,-254.39 117.815,-251.395\"/>\n",
              "<text text-anchor=\"middle\" x=\"153\" y=\"-144.8\" font-family=\"Times,serif\" font-size=\"14.00\">1.0</text>\n",
              "</g>\n",
              "</g>\n",
              "</svg>\n"
            ]
          },
          "metadata": {},
          "output_type": "display_data"
        }
      ],
      "source": [
        "d = A.dot(d)\n",
        "print(d)\n",
        "%dotstr to_dot(A, d)"
      ]
    },
    {
      "cell_type": "code",
      "execution_count": 46,
      "metadata": {
        "collapsed": false
      },
      "outputs": [
        {
          "data": {
            "text/plain": [
              "array([ 0.38339921,  0.        ,  0.4743083 ,  0.04545455,  0.09683794])"
            ]
          },
          "execution_count": 46,
          "metadata": {},
          "output_type": "execute_result"
        }
      ],
      "source": [
        "d"
      ]
    },
    {
      "cell_type": "markdown",
      "metadata": {},
      "source": [
        "* How would you find the steady state of this traversal?"
      ]
    },
    {
      "cell_type": "code",
      "execution_count": 47,
      "metadata": {
        "collapsed": true
      },
      "outputs": [],
      "source": [
        "# Just keep iterating until the distribution stabilizes."
      ]
    },
    {
      "cell_type": "markdown",
      "metadata": {},
      "source": [
        "* Any predictions about `np.sum(d)`?"
      ]
    },
    {
      "cell_type": "code",
      "execution_count": 48,
      "metadata": {
        "collapsed": true
      },
      "outputs": [],
      "source": [
        "# Always stays 1."
      ]
    }
  ],
  "metadata": {
    "kernelspec": {
      "display_name": "Python 3",
      "language": "python",
      "name": "python3"
    },
    "language_info": {
      "codemirror_mode": {
        "name": "ipython",
        "version": 3
      },
      "file_extension": ".py",
      "mimetype": "text/x-python",
      "name": "python",
      "nbconvert_exporter": "python",
      "pygments_lexer": "ipython3",
      "version": "3.5.2+"
    }
  },
  "nbformat": 4,
  "nbformat_minor": 0
}