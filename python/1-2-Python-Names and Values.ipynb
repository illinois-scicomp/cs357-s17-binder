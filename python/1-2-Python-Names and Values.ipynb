{
  "cells": [
    {
      "cell_type": "markdown",
      "metadata": {},
      "source": [
        "# Python Introduction: Names and Values"
      ]
    },
    {
      "cell_type": "markdown",
      "metadata": {},
      "source": [
        "Define and reference a variable:"
      ]
    },
    {
      "cell_type": "code",
      "execution_count": 1,
      "metadata": {
        "collapsed": false
      },
      "outputs": [],
      "source": [
        "a = 3*2 + 5"
      ]
    },
    {
      "cell_type": "code",
      "execution_count": 2,
      "metadata": {
        "collapsed": false
      },
      "outputs": [
        {
          "data": {
            "text/plain": [
              "11"
            ]
          },
          "execution_count": 2,
          "metadata": {},
          "output_type": "execute_result"
        }
      ],
      "source": [
        "a"
      ]
    },
    {
      "cell_type": "code",
      "execution_count": 3,
      "metadata": {
        "collapsed": false
      },
      "outputs": [],
      "source": [
        "a = \"interesting\"*3"
      ]
    },
    {
      "cell_type": "code",
      "execution_count": 4,
      "metadata": {
        "collapsed": false
      },
      "outputs": [
        {
          "data": {
            "text/plain": [
              "'interestinginterestinginteresting'"
            ]
          },
          "execution_count": 4,
          "metadata": {},
          "output_type": "execute_result"
        }
      ],
      "source": [
        "a"
      ]
    },
    {
      "cell_type": "markdown",
      "metadata": {},
      "source": [
        "No type declaration needed!\n",
        "\n",
        "(But values still have types--let's check.)"
      ]
    },
    {
      "cell_type": "code",
      "execution_count": 26,
      "metadata": {
        "collapsed": false
      },
      "outputs": [
        {
          "data": {
            "text/plain": [
              "str"
            ]
          },
          "execution_count": 26,
          "metadata": {},
          "output_type": "execute_result"
        }
      ],
      "source": [
        "type(a)"
      ]
    },
    {
      "cell_type": "markdown",
      "metadata": {},
      "source": [
        "Python variables are like *pointers*.\n",
        "\n",
        "(if that word makes sense)"
      ]
    },
    {
      "cell_type": "code",
      "execution_count": 27,
      "metadata": {
        "collapsed": false
      },
      "outputs": [],
      "source": [
        "a = [1,2,3]"
      ]
    },
    {
      "cell_type": "code",
      "execution_count": 28,
      "metadata": {
        "collapsed": false
      },
      "outputs": [],
      "source": [
        "b = a"
      ]
    },
    {
      "cell_type": "code",
      "execution_count": 29,
      "metadata": {
        "collapsed": false
      },
      "outputs": [],
      "source": [
        "b.append(4)"
      ]
    },
    {
      "cell_type": "code",
      "execution_count": 30,
      "metadata": {
        "collapsed": false
      },
      "outputs": [
        {
          "data": {
            "text/plain": [
              "[1, 2, 3, 4]"
            ]
          },
          "execution_count": 30,
          "metadata": {},
          "output_type": "execute_result"
        }
      ],
      "source": [
        "b"
      ]
    },
    {
      "cell_type": "code",
      "execution_count": 31,
      "metadata": {
        "collapsed": false
      },
      "outputs": [
        {
          "data": {
            "text/plain": [
              "[1, 2, 3, 4]"
            ]
          },
          "execution_count": 31,
          "metadata": {},
          "output_type": "execute_result"
        }
      ],
      "source": [
        "a"
      ]
    },
    {
      "cell_type": "markdown",
      "metadata": {},
      "source": [
        "You can see this pointer with `id()`."
      ]
    },
    {
      "cell_type": "code",
      "execution_count": 33,
      "metadata": {
        "collapsed": false
      },
      "outputs": [
        {
          "name": "stdout",
          "output_type": "stream",
          "text": [
            "140441837907336 140441837907336\n"
          ]
        }
      ],
      "source": [
        "print(id(a), id(b))"
      ]
    },
    {
      "cell_type": "markdown",
      "metadata": {},
      "source": [
        "The `is` operator tests for object sameness."
      ]
    },
    {
      "cell_type": "code",
      "execution_count": 34,
      "metadata": {
        "collapsed": false
      },
      "outputs": [
        {
          "data": {
            "text/plain": [
              "True"
            ]
          },
          "execution_count": 34,
          "metadata": {},
          "output_type": "execute_result"
        }
      ],
      "source": [
        "a is b"
      ]
    },
    {
      "cell_type": "markdown",
      "metadata": {},
      "source": [
        "This is a **stronger** condition than being equal!"
      ]
    },
    {
      "cell_type": "code",
      "execution_count": 36,
      "metadata": {
        "collapsed": false
      },
      "outputs": [
        {
          "name": "stdout",
          "output_type": "stream",
          "text": [
            "IS    False\n",
            "EQUAL True\n"
          ]
        }
      ],
      "source": [
        "a = [1,2,3]\n",
        "b = [1,2,3]\n",
        "print(\"IS   \", a is b)\n",
        "print(\"EQUAL\", a == b)"
      ]
    },
    {
      "cell_type": "markdown",
      "metadata": {},
      "source": [
        "What do you think the following prints?"
      ]
    },
    {
      "cell_type": "code",
      "execution_count": 38,
      "metadata": {
        "collapsed": false
      },
      "outputs": [
        {
          "name": "stdout",
          "output_type": "stream",
          "text": [
            "[1, 2, 3]\n"
          ]
        }
      ],
      "source": [
        "a = [1,2,3]\n",
        "b = a\n",
        "a = a + [4]\n",
        "print(b)"
      ]
    },
    {
      "cell_type": "code",
      "execution_count": 39,
      "metadata": {
        "collapsed": false
      },
      "outputs": [
        {
          "data": {
            "text/plain": [
              "False"
            ]
          },
          "execution_count": 39,
          "metadata": {},
          "output_type": "execute_result"
        }
      ],
      "source": [
        "a is b"
      ]
    },
    {
      "cell_type": "markdown",
      "metadata": {},
      "source": [
        "Why is that?"
      ]
    },
    {
      "cell_type": "markdown",
      "metadata": {},
      "source": [
        "-----\n",
        "How could this lead to bugs?"
      ]
    },
    {
      "cell_type": "markdown",
      "metadata": {},
      "source": [
        "----------\n",
        "* To help manage this risk, Python provides **immutable** types.\n",
        "\n",
        "* Immutable types cannot be changed in-place, only by creating a new object.\n",
        "\n",
        "* A `tuple` is an immutable `list`."
      ]
    },
    {
      "cell_type": "code",
      "execution_count": 40,
      "metadata": {
        "collapsed": false
      },
      "outputs": [
        {
          "data": {
            "text/plain": [
              "list"
            ]
          },
          "execution_count": 40,
          "metadata": {},
          "output_type": "execute_result"
        }
      ],
      "source": [
        "a = [1,2,3]\n",
        "type(a)"
      ]
    },
    {
      "cell_type": "code",
      "execution_count": 41,
      "metadata": {
        "collapsed": false
      },
      "outputs": [
        {
          "data": {
            "text/plain": [
              "tuple"
            ]
          },
          "execution_count": 41,
          "metadata": {},
          "output_type": "execute_result"
        }
      ],
      "source": [
        "a = (1,2,3)\n",
        "\n",
        "type(a)"
      ]
    },
    {
      "cell_type": "markdown",
      "metadata": {},
      "source": [
        "Let's try to change that tuple."
      ]
    },
    {
      "cell_type": "code",
      "execution_count": 42,
      "metadata": {
        "collapsed": false
      },
      "outputs": [
        {
          "ename": "TypeError",
          "evalue": "'tuple' object does not support item assignment",
          "output_type": "error",
          "traceback": [
            "\u001b[0;31m---------------------------------------------------------------------------\u001b[0m\n\u001b[0;31mTypeError\u001b[0m                                 Traceback (most recent call last)",
            "\u001b[0;32m<ipython-input-42-ec18b7a325e0>\u001b[0m in \u001b[0;36m<module>\u001b[0;34m()\u001b[0m\n\u001b[0;32m----> 1\u001b[0;31m \u001b[0ma\u001b[0m\u001b[0;34m[\u001b[0m\u001b[0;36m2\u001b[0m\u001b[0;34m]\u001b[0m \u001b[0;34m=\u001b[0m \u001b[0;36m0\u001b[0m\u001b[0;34m\u001b[0m\u001b[0m\n\u001b[0m",
            "\u001b[0;31mTypeError\u001b[0m: 'tuple' object does not support item assignment"
          ]
        }
      ],
      "source": [
        "a[2] = 0"
      ]
    },
    {
      "cell_type": "markdown",
      "metadata": {},
      "source": [
        "*Bonus question:* How do you spell a single-element tuple?"
      ]
    },
    {
      "cell_type": "code",
      "execution_count": 43,
      "metadata": {
        "collapsed": false
      },
      "outputs": [
        {
          "data": {
            "text/plain": [
              "tuple"
            ]
          },
          "execution_count": 43,
          "metadata": {},
          "output_type": "execute_result"
        }
      ],
      "source": [
        "a = (3,)\n",
        "\n",
        "type(a)"
      ]
    },
    {
      "cell_type": "markdown",
      "metadata": {},
      "source": [
        "---------------------\n",
        "\n",
        "Can you represent that graphically?"
      ]
    },
    {
      "cell_type": "code",
      "execution_count": 12,
      "metadata": {
        "collapsed": false
      },
      "outputs": [
        {
          "name": "stdout",
          "output_type": "stream",
          "text": [
            "The gvmagic extension is already loaded. To reload it, use:\n",
            "  %reload_ext gvmagic\n"
          ]
        }
      ],
      "source": [
        "# (This cell contains a bunch of voodoo that\n",
        "# helps with the graphics below. You don't need to\n",
        "# know what this does.)\n",
        "\n",
        "%load_ext gvmagic\n",
        "from objgraph_helper import dot_refs"
      ]
    },
    {
      "cell_type": "code",
      "execution_count": 13,
      "metadata": {
        "collapsed": true
      },
      "outputs": [],
      "source": [
        "a = [1,2,3]\n",
        "b = [a,[1,2], a]"
      ]
    },
    {
      "cell_type": "code",
      "execution_count": 14,
      "metadata": {
        "collapsed": false
      },
      "outputs": [
        {
          "data": {
            "image/svg+xml": [
              "<?xml version=\"1.0\" encoding=\"UTF-8\" standalone=\"no\"?>\n",
              "<!DOCTYPE svg PUBLIC \"-//W3C//DTD SVG 1.1//EN\"\n",
              " \"http://www.w3.org/Graphics/SVG/1.1/DTD/svg11.dtd\">\n",
              "<!-- Generated by graphviz version 2.38.0 (20140413.2041)\n",
              " -->\n",
              "<!-- Title: ObjectGraph Pages: 1 -->\n",
              "<svg width=\"208pt\" height=\"194pt\"\n",
              " viewBox=\"0.00 0.00 207.50 194.00\" xmlns=\"http://www.w3.org/2000/svg\" xmlns:xlink=\"http://www.w3.org/1999/xlink\">\n",
              "<g id=\"graph0\" class=\"graph\" transform=\"scale(1 1) rotate(0) translate(4 190)\">\n",
              "<title>ObjectGraph</title>\n",
              "<polygon fill=\"white\" stroke=\"none\" points=\"-4,4 -4,-190 203.5,-190 203.5,4 -4,4\"/>\n",
              "<!-- o140352440694024 -->\n",
              "<g id=\"node1\" class=\"node\"><title>o140352440694024</title>\n",
              "<polygon fill=\"#ffffff\" stroke=\"black\" points=\"124.5,-186 67.5,-186 67.5,-148 124.5,-148 124.5,-186\"/>\n",
              "<text text-anchor=\"middle\" x=\"96\" y=\"-170.8\" font-family=\"Times,serif\" font-size=\"14.00\" fill=\"red\">list</text>\n",
              "<text text-anchor=\"middle\" x=\"96\" y=\"-155.8\" font-family=\"Times,serif\" font-size=\"14.00\" fill=\"red\">3 items</text>\n",
              "</g>\n",
              "<!-- o140352442844424 -->\n",
              "<g id=\"node2\" class=\"node\"><title>o140352442844424</title>\n",
              "<polygon fill=\"#c3c3c3\" stroke=\"black\" points=\"124.5,-112 67.5,-112 67.5,-74 124.5,-74 124.5,-112\"/>\n",
              "<text text-anchor=\"middle\" x=\"96\" y=\"-96.8\" font-family=\"Times,serif\" font-size=\"14.00\">list</text>\n",
              "<text text-anchor=\"middle\" x=\"96\" y=\"-81.8\" font-family=\"Times,serif\" font-size=\"14.00\">3 items</text>\n",
              "</g>\n",
              "<!-- o140352440694024&#45;&gt;o140352442844424 -->\n",
              "<g id=\"edge1\" class=\"edge\"><title>o140352440694024&#45;&gt;o140352442844424</title>\n",
              "<path fill=\"none\" stroke=\"black\" d=\"M90.0476,-147.831C89.2972,-140.131 89.0763,-130.974 89.3849,-122.417\"/>\n",
              "<polygon fill=\"black\" stroke=\"black\" points=\"92.8792,-122.616 90.024,-112.413 85.8935,-122.17 92.8792,-122.616\"/>\n",
              "</g>\n",
              "<!-- o140352440694024&#45;&gt;o140352442844424 -->\n",
              "<g id=\"edge3\" class=\"edge\"><title>o140352440694024&#45;&gt;o140352442844424</title>\n",
              "<path fill=\"none\" stroke=\"black\" d=\"M101.952,-147.831C102.703,-140.131 102.924,-130.974 102.615,-122.417\"/>\n",
              "<polygon fill=\"black\" stroke=\"black\" points=\"106.107,-122.17 101.976,-112.413 99.1208,-122.616 106.107,-122.17\"/>\n",
              "</g>\n",
              "<!-- o140352437032136 -->\n",
              "<g id=\"node3\" class=\"node\"><title>o140352437032136</title>\n",
              "<polygon fill=\"#c3c3c3\" stroke=\"black\" points=\"199.5,-112 142.5,-112 142.5,-74 199.5,-74 199.5,-112\"/>\n",
              "<text text-anchor=\"middle\" x=\"171\" y=\"-96.8\" font-family=\"Times,serif\" font-size=\"14.00\">list</text>\n",
              "<text text-anchor=\"middle\" x=\"171\" y=\"-81.8\" font-family=\"Times,serif\" font-size=\"14.00\">2 items</text>\n",
              "</g>\n",
              "<!-- o140352440694024&#45;&gt;o140352437032136 -->\n",
              "<g id=\"edge2\" class=\"edge\"><title>o140352440694024&#45;&gt;o140352437032136</title>\n",
              "<path fill=\"none\" stroke=\"black\" d=\"M114.926,-147.831C123.986,-139.134 134.981,-128.578 144.827,-119.127\"/>\n",
              "<polygon fill=\"black\" stroke=\"black\" points=\"147.29,-121.613 152.08,-112.163 142.443,-116.563 147.29,-121.613\"/>\n",
              "</g>\n",
              "<!-- o10923616 -->\n",
              "<g id=\"node4\" class=\"node\"><title>o10923616</title>\n",
              "<polygon fill=\"#878787\" stroke=\"black\" points=\"54,-38 0,-38 0,-0 54,-0 54,-38\"/>\n",
              "<text text-anchor=\"middle\" x=\"27\" y=\"-22.8\" font-family=\"Times,serif\" font-size=\"14.00\">int</text>\n",
              "<text text-anchor=\"middle\" x=\"27\" y=\"-7.8\" font-family=\"Times,serif\" font-size=\"14.00\">3</text>\n",
              "</g>\n",
              "<!-- o140352442844424&#45;&gt;o10923616 -->\n",
              "<g id=\"edge4\" class=\"edge\"><title>o140352442844424&#45;&gt;o10923616</title>\n",
              "<path fill=\"none\" stroke=\"black\" d=\"M78.5884,-73.8314C70.479,-65.3694 60.6844,-55.1489 51.818,-45.8971\"/>\n",
              "<polygon fill=\"black\" stroke=\"black\" points=\"54.0921,-43.2115 44.646,-38.4133 49.0382,-48.0549 54.0921,-43.2115\"/>\n",
              "</g>\n",
              "<!-- o10923584 -->\n",
              "<g id=\"node5\" class=\"node\"><title>o10923584</title>\n",
              "<polygon fill=\"#878787\" stroke=\"black\" points=\"198,-38 144,-38 144,-0 198,-0 198,-38\"/>\n",
              "<text text-anchor=\"middle\" x=\"171\" y=\"-22.8\" font-family=\"Times,serif\" font-size=\"14.00\">int</text>\n",
              "<text text-anchor=\"middle\" x=\"171\" y=\"-7.8\" font-family=\"Times,serif\" font-size=\"14.00\">2</text>\n",
              "</g>\n",
              "<!-- o140352442844424&#45;&gt;o10923584 -->\n",
              "<g id=\"edge5\" class=\"edge\"><title>o140352442844424&#45;&gt;o10923584</title>\n",
              "<path fill=\"none\" stroke=\"black\" d=\"M114.926,-73.8314C123.986,-65.1337 134.981,-54.5783 144.827,-45.1265\"/>\n",
              "<polygon fill=\"black\" stroke=\"black\" points=\"147.29,-47.613 152.08,-38.1628 142.443,-42.5633 147.29,-47.613\"/>\n",
              "</g>\n",
              "<!-- o10923552 -->\n",
              "<g id=\"node6\" class=\"node\"><title>o10923552</title>\n",
              "<polygon fill=\"#878787\" stroke=\"black\" points=\"126,-38 72,-38 72,-0 126,-0 126,-38\"/>\n",
              "<text text-anchor=\"middle\" x=\"99\" y=\"-22.8\" font-family=\"Times,serif\" font-size=\"14.00\">int</text>\n",
              "<text text-anchor=\"middle\" x=\"99\" y=\"-7.8\" font-family=\"Times,serif\" font-size=\"14.00\">1</text>\n",
              "</g>\n",
              "<!-- o140352442844424&#45;&gt;o10923552 -->\n",
              "<g id=\"edge6\" class=\"edge\"><title>o140352442844424&#45;&gt;o10923552</title>\n",
              "<path fill=\"none\" stroke=\"black\" d=\"M96.757,-73.8314C97.0779,-66.131 97.4594,-56.9743 97.816,-48.4166\"/>\n",
              "<polygon fill=\"black\" stroke=\"black\" points=\"101.313,-48.5503 98.2328,-38.4133 94.3194,-48.2589 101.313,-48.5503\"/>\n",
              "</g>\n",
              "<!-- o140352437032136&#45;&gt;o10923584 -->\n",
              "<g id=\"edge7\" class=\"edge\"><title>o140352437032136&#45;&gt;o10923584</title>\n",
              "<path fill=\"none\" stroke=\"black\" d=\"M171,-73.8314C171,-66.131 171,-56.9743 171,-48.4166\"/>\n",
              "<polygon fill=\"black\" stroke=\"black\" points=\"174.5,-48.4132 171,-38.4133 167.5,-48.4133 174.5,-48.4132\"/>\n",
              "</g>\n",
              "<!-- o140352437032136&#45;&gt;o10923552 -->\n",
              "<g id=\"edge8\" class=\"edge\"><title>o140352437032136&#45;&gt;o10923552</title>\n",
              "<path fill=\"none\" stroke=\"black\" d=\"M152.831,-73.8314C144.285,-65.2848 133.944,-54.9443 124.62,-45.6198\"/>\n",
              "<polygon fill=\"black\" stroke=\"black\" points=\"126.959,-43.0095 117.413,-38.4133 122.009,-47.9592 126.959,-43.0095\"/>\n",
              "</g>\n",
              "</g>\n",
              "</svg>\n"
            ]
          },
          "metadata": {},
          "output_type": "display_data"
        }
      ],
      "source": [
        "%dotstr dot_refs([b])"
      ]
    },
    {
      "cell_type": "code",
      "execution_count": null,
      "metadata": {
        "collapsed": true
      },
      "outputs": [],
      "source": []
    }
  ],
  "metadata": {
    "kernelspec": {
      "display_name": "Python 3",
      "language": "python",
      "name": "python3"
    },
    "language_info": {
      "codemirror_mode": {
        "name": "ipython",
        "version": 3
      },
      "file_extension": ".py",
      "mimetype": "text/x-python",
      "name": "python",
      "nbconvert_exporter": "python",
      "pygments_lexer": "ipython3",
      "version": "3.5.2+"
    },
    "widgets": {
      "state": {},
      "version": "1.1.2"
    }
  },
  "nbformat": 4,
  "nbformat_minor": 0
}