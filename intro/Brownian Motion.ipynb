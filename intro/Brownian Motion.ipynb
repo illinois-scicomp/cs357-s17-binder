{
  "cells": [
    {
      "cell_type": "markdown",
      "metadata": {
        "collapsed": true
      },
      "source": [
        "# Brownian Motion: A Numerical Experiment"
      ]
    },
    {
      "cell_type": "markdown",
      "metadata": {},
      "source": [
        "Suppose we want to describe the motion of a particle in a gas:\n",
        "\n",
        "![Brownian motion](brownian-motion.gif)"
      ]
    },
    {
      "cell_type": "markdown",
      "metadata": {},
      "source": [
        "* We could model all those little particles and their collisions.\n",
        "\n",
        "* Model the motion of the big particle as random. \n",
        "\n",
        "* *Assume* the particle gets a 'bump' in X and Y that is uniformly distributed between $-0.1$ and $0.1$.\n",
        "\n",
        "Draw 10,000 random numbers modeling the bumps, print them, store them in the array `bumps`."
      ]
    },
    {
      "cell_type": "code",
      "execution_count": 2,
      "metadata": {
        "collapsed": false
      },
      "outputs": [],
      "source": [
        "from random import uniform\n",
        "\n",
        "bumps = []\n",
        "for i in range(10000):\n",
        "    b = uniform(-0.1, 0.1)\n",
        "    bumps.append(b)"
      ]
    },
    {
      "cell_type": "markdown",
      "metadata": {},
      "source": [
        "Plot a histogram to confirm the distribution of the bumps:"
      ]
    },
    {
      "cell_type": "code",
      "execution_count": 3,
      "metadata": {
        "collapsed": false
      },
      "outputs": [
        {
          "data": {
            "text/plain": [
              "(array([ 1006.,  1021.,   960.,   996.,  1056.,  1017.,   976.,   986.,\n",
              "         1000.,   982.]),\n",
              " array([ -9.99919044e-02,  -7.99948511e-02,  -5.99977978e-02,\n",
              "         -4.00007445e-02,  -2.00036913e-02,  -6.63797718e-06,\n",
              "          1.99904153e-02,   3.99874686e-02,   5.99845219e-02,\n",
              "          7.99815751e-02,   9.99786284e-02]),\n",
              " <a list of 10 Patch objects>)"
            ]
          },
          "execution_count": 3,
          "metadata": {},
          "output_type": "execute_result"
        },
        {
          "data": {
            "image/png": "[encoded data removed]",
            "text/plain": [
              "<matplotlib.figure.Figure at 0x7fbf59d1b780>"
            ]
          },
          "metadata": {},
          "output_type": "display_data"
        }
      ],
      "source": [
        "import matplotlib.pyplot as pt\n",
        "pt.hist(bumps)"
      ]
    },
    {
      "cell_type": "markdown",
      "metadata": {},
      "source": [
        "**Question 1:** Where does the particle end up, on average?\n",
        "\n",
        "**Question 2:** How does the average distance from the origin depend on the time?\n",
        "\n",
        "**Approach:** Sum the bumps."
      ]
    },
    {
      "cell_type": "code",
      "execution_count": 4,
      "metadata": {
        "collapsed": false
      },
      "outputs": [
        {
          "data": {
            "text/plain": [
              "-3.0897944581411325"
            ]
          },
          "execution_count": 4,
          "metadata": {},
          "output_type": "execute_result"
        }
      ],
      "source": [
        "sum(bumps)"
      ]
    },
    {
      "cell_type": "markdown",
      "metadata": {},
      "source": [
        "How did it get there?\n",
        "\n",
        "Plot the path."
      ]
    },
    {
      "cell_type": "code",
      "execution_count": 5,
      "metadata": {
        "collapsed": false
      },
      "outputs": [
        {
          "data": {
            "text/plain": [
              "[<matplotlib.lines.Line2D at 0x7fbf595a14e0>]"
            ]
          },
          "execution_count": 5,
          "metadata": {},
          "output_type": "execute_result"
        },
        {
          "data": {
            "image/png": "[encoded data removed]",
            "text/plain": [
              "<matplotlib.figure.Figure at 0x7fbf58ae4ef0>"
            ]
          },
          "metadata": {},
          "output_type": "display_data"
        }
      ],
      "source": [
        "pos = 0\n",
        "path = []\n",
        "for bump in bumps:\n",
        "    path.append(pos)\n",
        "    pos += bump\n",
        "path.append(pos)\n",
        "\n",
        "pt.plot(path)"
      ]
    },
    {
      "cell_type": "markdown",
      "metadata": {},
      "source": [
        "Individual realizations: not that helpful.\n",
        "\n",
        "Do 1000 of these. Store the endpoints in `endpoints`."
      ]
    },
    {
      "cell_type": "code",
      "execution_count": 9,
      "metadata": {
        "collapsed": true
      },
      "outputs": [],
      "source": [
        "from random import normalvariate\n",
        "\n",
        "endpoints = []\n",
        "\n",
        "for realization in range(1000):\n",
        "    bumps = []\n",
        "    for i in range(10000):\n",
        "        b = normalvariate(0, 0.1)\n",
        "        bumps.append(b)\n",
        "\n",
        "    endpoint = sum(bumps)\n",
        "    endpoints.append(endpoint)"
      ]
    },
    {
      "cell_type": "markdown",
      "metadata": {},
      "source": [
        "Plot a histogram of the endpoints:"
      ]
    },
    {
      "cell_type": "code",
      "execution_count": 7,
      "metadata": {
        "collapsed": false
      },
      "outputs": [
        {
          "data": {
            "text/plain": [
              "(array([   3.,   22.,   59.,  152.,  254.,  261.,  157.,   67.,   21.,    4.]),\n",
              " array([-34.97767545, -28.09727797, -21.21688049, -14.33648301,\n",
              "         -7.45608553,  -0.57568805,   6.30470943,  13.18510691,\n",
              "         20.06550439,  26.94590187,  33.82629935]),\n",
              " <a list of 10 Patch objects>)"
            ]
          },
          "execution_count": 7,
          "metadata": {},
          "output_type": "execute_result"
        },
        {
          "data": {
            "image/png": "[encoded data removed]",
            "text/plain": [
              "<matplotlib.figure.Figure at 0x7fbf575d4630>"
            ]
          },
          "metadata": {},
          "output_type": "display_data"
        }
      ],
      "source": [
        "pt.hist(endpoints)"
      ]
    },
    {
      "cell_type": "markdown",
      "metadata": {},
      "source": [
        "## Answering Question 1\n",
        "\n",
        "To answer our question 1: What is the *average* endpoint?"
      ]
    },
    {
      "cell_type": "code",
      "execution_count": 35,
      "metadata": {
        "collapsed": false
      },
      "outputs": [
        {
          "data": {
            "text/plain": [
              "0.03684222340619225"
            ]
          },
          "execution_count": 35,
          "metadata": {},
          "output_type": "execute_result"
        }
      ],
      "source": [
        "sum(endpoints)/len(endpoints)"
      ]
    },
    {
      "cell_type": "markdown",
      "metadata": {},
      "source": [
        "But we got even more information:\n",
        "\n",
        "*   It looks like the endpoints follow a [Normal distribution](https://en.wikipedia.org/wiki/Normal_distribution).\n",
        "*   Is this result robust with respect to distribution choice? (We somewhat arbitrarily chose 'uniform'.)"
      ]
    },
    {
      "cell_type": "markdown",
      "metadata": {
        "collapsed": true
      },
      "source": [
        "## Answering Question 2\n",
        "\n",
        "Let's compute the average distance from the origin based on the length of the simulation."
      ]
    },
    {
      "cell_type": "code",
      "execution_count": 24,
      "metadata": {
        "collapsed": false
      },
      "outputs": [
        {
          "name": "stdout",
          "output_type": "stream",
          "text": [
            "0 steps\n",
            "100 steps\n",
            "200 steps\n",
            "300 steps\n",
            "400 steps\n",
            "500 steps\n",
            "600 steps\n",
            "700 steps\n",
            "800 steps\n",
            "900 steps\n",
            "1000 steps\n",
            "1100 steps\n",
            "1200 steps\n",
            "1300 steps\n",
            "1400 steps\n"
          ]
        }
      ],
      "source": [
        "\n",
        "from random import normalvariate\n",
        "\n",
        "avg_dists = []\n",
        "for nsteps in range(0, 1500, 100):\n",
        "    print(nsteps, \"steps\")\n",
        "\n",
        "    endpoints = []\n",
        "    for realization in range(1000):\n",
        "        bumps = []\n",
        "        for i in range(nsteps):\n",
        "            b = normalvariate(0, 0.1)\n",
        "            bumps.append(b)\n",
        "\n",
        "        endpoint = sum(bumps)\n",
        "        endpoints.append(endpoint)\n",
        "        \n",
        "    avg_dists.append(sum(ep**2 for ep in endpoints) / len(endpoints))"
      ]
    },
    {
      "cell_type": "code",
      "execution_count": 25,
      "metadata": {
        "collapsed": false
      },
      "outputs": [
        {
          "data": {
            "text/plain": [
              "[<matplotlib.lines.Line2D at 0x7fbf562128d0>]"
            ]
          },
          "execution_count": 25,
          "metadata": {},
          "output_type": "execute_result"
        },
        {
          "data": {
            "image/png": "[encoded data removed]",
            "text/plain": [
              "<matplotlib.figure.Figure at 0x7fbf562fc748>"
            ]
          },
          "metadata": {},
          "output_type": "display_data"
        }
      ],
      "source": [
        "pt.plot(avg_dists)"
      ]
    },
    {
      "cell_type": "markdown",
      "metadata": {},
      "source": [
        "Got a hypothesis?"
      ]
    }
  ],
  "metadata": {
    "kernelspec": {
      "display_name": "Python 3",
      "language": "python",
      "name": "python3"
    },
    "language_info": {
      "codemirror_mode": {
        "name": "ipython",
        "version": 3
      },
      "file_extension": ".py",
      "mimetype": "text/x-python",
      "name": "python",
      "nbconvert_exporter": "python",
      "pygments_lexer": "ipython3",
      "version": "3.5.3rc1"
    },
    "widgets": {
      "state": {},
      "version": "1.1.2"
    }
  },
  "nbformat": 4,
  "nbformat_minor": 0
}