{
  "cells": [
    {
      "cell_type": "markdown",
      "metadata": {},
      "source": [
        "# Picking apart a floating point number"
      ]
    },
    {
      "cell_type": "code",
      "execution_count": 33,
      "metadata": {
        "collapsed": false
      },
      "outputs": [],
      "source": [
        "# Never mind the details of this function...\n",
        "\n",
        "def pretty_print_fp(x):\n",
        "    print(\"---------------------------------------------\")\n",
        "    print(\"Floating point structure for %r\" % x)\n",
        "    print(\"---------------------------------------------\")\n",
        "    import struct\n",
        "    s = struct.pack(\"d\", x)\n",
        "\n",
        "    def get_bit(i):\n",
        "        byte_nr, bit_nr = divmod(i, 8)\n",
        "        return int(bool(\n",
        "            s[byte_nr] & (1 << bit_nr)\n",
        "            ))\n",
        "\n",
        "    def get_bits(lsb, count):\n",
        "        return sum(get_bit(i+lsb)*2**i for i in range(count))\n",
        "\n",
        "    # https://en.wikipedia.org/wiki/Double_precision_floating-point_format\n",
        "\n",
        "    print(\"Sign bit (1:negative):\", get_bit(63))\n",
        "    \n",
        "    stored_exponent = get_bits(52, 11)\n",
        "    fraction = get_bits(0, 52)\n",
        "    \n",
        "    if stored_exponent == 0:\n",
        "        exponent = -1022\n",
        "        significand = fraction\n",
        "    else:\n",
        "        exponent = stored_exponent - 1023\n",
        "        significand = fraction + 2**52\n",
        "        \n",
        "    print(\"Stored exponent value: %d\" % stored_exponent)\n",
        "    print(\"Mathematical exponent: %d\" % exponent)\n",
        "\n",
        "    print(\"Fraction (bin): {0:052b}\".format(fraction))\n",
        "    print(\"Signif. (bin): {0:053b}\".format(significand))\n",
        "    print(\"Significand (decimal, scaled to <=2):\", repr(significand / (2**52)))"
      ]
    },
    {
      "cell_type": "code",
      "execution_count": 41,
      "metadata": {
        "collapsed": false
      },
      "outputs": [
        {
          "name": "stdout",
          "output_type": "stream",
          "text": [
            "---------------------------------------------\n",
            "Floating point structure for 1\n",
            "---------------------------------------------\n",
            "Sign bit (1:negative): 0\n",
            "Stored exponent value: 1023\n",
            "Mathematical exponent: 0\n",
            "Fraction (bin): 0000000000000000000000000000000000000000000000000000\n",
            "Signif. (bin): 10000000000000000000000000000000000000000000000000000\n",
            "Significand (decimal, scaled to <=2): 1.0\n"
          ]
        }
      ],
      "source": [
        "pretty_print_fp(1)"
      ]
    },
    {
      "cell_type": "markdown",
      "metadata": {},
      "source": [
        "Things to try:\n",
        "\n",
        "* Twiddle the sign bit\n",
        "* 1,2,4,8\n",
        "* 0.5,0.25\n",
        "* $2^{\\pm 1023}$, $2^{\\pm 1024}$\n",
        "* `float(\"nan\")`"
      ]
    },
    {
      "cell_type": "code",
      "execution_count": null,
      "metadata": {
        "collapsed": true
      },
      "outputs": [],
      "source": []
    }
  ],
  "metadata": {
    "kernelspec": {
      "display_name": "Python 3",
      "language": "python",
      "name": "python3"
    },
    "language_info": {
      "codemirror_mode": {
        "name": "ipython",
        "version": 3
      },
      "file_extension": ".py",
      "mimetype": "text/x-python",
      "name": "python",
      "nbconvert_exporter": "python",
      "pygments_lexer": "ipython3",
      "version": "3.5.3"
    },
    "widgets": {
      "state": {},
      "version": "1.1.2"
    }
  },
  "nbformat": 4,
  "nbformat_minor": 0
}