{
  "cells": [
    {
      "cell_type": "markdown",
      "metadata": {},
      "source": [
        "# Rank-1 Approximation"
      ]
    },
    {
      "cell_type": "code",
      "execution_count": 3,
      "metadata": {
        "collapsed": false
      },
      "outputs": [],
      "source": [
        "import numpy as np\n",
        "import numpy.linalg as la\n",
        "import matplotlib.pyplot as pt"
      ]
    },
    {
      "cell_type": "code",
      "execution_count": 67,
      "metadata": {
        "collapsed": false
      },
      "outputs": [],
      "source": [
        "np.random.seed(17)\n",
        "n = 10\n",
        "X = np.random.randn(2, n)\n",
        "\n",
        "X[1] = 0.7*X[0] + 0.2 * X[1]\n",
        "\n",
        "# uncomment this for a different data set\n",
        "#X[0] = 0.1 * X[0]"
      ]
    },
    {
      "cell_type": "code",
      "execution_count": 47,
      "metadata": {
        "collapsed": false
      },
      "outputs": [
        {
          "data": {
            "text/plain": [
              "[<matplotlib.lines.Line2D at 0x7f0e4bcf1dd8>]"
            ]
          },
          "execution_count": 47,
          "metadata": {},
          "output_type": "execute_result"
        },
        {
          "data": {
            "image/png": "[encoded data removed]",
            "text/plain": [
              "<matplotlib.figure.Figure at 0x7f0e4bcfccf8>"
            ]
          },
          "metadata": {},
          "output_type": "display_data"
        }
      ],
      "source": [
        "pt.figure(figsize=(6,6))\n",
        "pt.gca().set_aspect(\"equal\")\n",
        "pt.xlim([-2, 2])\n",
        "pt.ylim([-2, 2])\n",
        "pt.grid()\n",
        "pt.plot(X[0], X[1], \"o\")"
      ]
    },
    {
      "cell_type": "markdown",
      "metadata": {},
      "source": [
        "Now compute the SVD. Use `numpy.linalg.svd(..., full_matrices=False)`."
      ]
    },
    {
      "cell_type": "code",
      "execution_count": 52,
      "metadata": {
        "collapsed": false
      },
      "outputs": [],
      "source": [
        "U, sigma, VT = la.svd(X, full_matrices=False)"
      ]
    },
    {
      "cell_type": "markdown",
      "metadata": {},
      "source": [
        "Now find the vectors `u` and `v`:"
      ]
    },
    {
      "cell_type": "code",
      "execution_count": 53,
      "metadata": {
        "collapsed": false
      },
      "outputs": [],
      "source": [
        "u = U[:, 0]\n",
        "v = VT[0]"
      ]
    },
    {
      "cell_type": "markdown",
      "metadata": {},
      "source": [
        "Now find `X1`:"
      ]
    },
    {
      "cell_type": "code",
      "execution_count": 61,
      "metadata": {
        "collapsed": false
      },
      "outputs": [],
      "source": [
        "X1 = np.outer(u, v) * sigma[0]"
      ]
    },
    {
      "cell_type": "code",
      "execution_count": 66,
      "metadata": {
        "collapsed": false
      },
      "outputs": [
        {
          "data": {
            "text/plain": [
              "<matplotlib.legend.Legend at 0x7f0e4ba4a2e8>"
            ]
          },
          "execution_count": 66,
          "metadata": {},
          "output_type": "execute_result"
        },
        {
          "data": {
            "image/png": "[encoded data removed]",
            "text/plain": [
              "<matplotlib.figure.Figure at 0x7f0e4b9aa898>"
            ]
          },
          "metadata": {},
          "output_type": "display_data"
        }
      ],
      "source": [
        "\n",
        "pt.figure(figsize=(6,6))\n",
        "\n",
        "pt.arrow(0, 0, u[0], u[1], lw=3)\n",
        "\n",
        "pt.gca().set_aspect(\"equal\")\n",
        "pt.xlim([-2, 2])\n",
        "pt.ylim([-2, 2])\n",
        "pt.grid()\n",
        "\n",
        "pt.plot(X[0], X[1], \"ob\", label=\"X\")\n",
        "pt.plot(X1[0], X1[1], \"og\", label=\"X1\")\n",
        "pt.legend(loc=\"best\")"
      ]
    },
    {
      "cell_type": "markdown",
      "metadata": {},
      "source": [
        "* Is this the same as least-squares data fitting?\n",
        "* Would least-squares data fitting deal with the second data set above?"
      ]
    }
  ],
  "metadata": {},
  "nbformat": 4,
  "nbformat_minor": 0
}